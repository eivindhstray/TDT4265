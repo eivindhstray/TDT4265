{
  "nbformat": 4,
  "nbformat_minor": 0,
  "metadata": {
    "colab": {
      "name": "Task2.ipynb",
      "provenance": []
    },
    "kernelspec": {
      "name": "python3",
      "display_name": "Python 3"
    },
    "accelerator": "GPU",
    "widgets": {
      "application/vnd.jupyter.widget-state+json": {
        "4be6100aa46d4928a9d65b91e7e68a80": {
          "model_module": "@jupyter-widgets/controls",
          "model_name": "HBoxModel",
          "state": {
            "_view_name": "HBoxView",
            "_dom_classes": [],
            "_model_name": "HBoxModel",
            "_view_module": "@jupyter-widgets/controls",
            "_model_module_version": "1.5.0",
            "_view_count": null,
            "_view_module_version": "1.5.0",
            "box_style": "",
            "layout": "IPY_MODEL_58ed161222d2441aa14a9a058b9ce85f",
            "_model_module": "@jupyter-widgets/controls",
            "children": [
              "IPY_MODEL_a2147654aca84229b89bde01ad5590af",
              "IPY_MODEL_e4bec35bf8a24843ae9acb70326ade16"
            ]
          }
        },
        "58ed161222d2441aa14a9a058b9ce85f": {
          "model_module": "@jupyter-widgets/base",
          "model_name": "LayoutModel",
          "state": {
            "_view_name": "LayoutView",
            "grid_template_rows": null,
            "right": null,
            "justify_content": null,
            "_view_module": "@jupyter-widgets/base",
            "overflow": null,
            "_model_module_version": "1.2.0",
            "_view_count": null,
            "flex_flow": null,
            "width": null,
            "min_width": null,
            "border": null,
            "align_items": null,
            "bottom": null,
            "_model_module": "@jupyter-widgets/base",
            "top": null,
            "grid_column": null,
            "overflow_y": null,
            "overflow_x": null,
            "grid_auto_flow": null,
            "grid_area": null,
            "grid_template_columns": null,
            "flex": null,
            "_model_name": "LayoutModel",
            "justify_items": null,
            "grid_row": null,
            "max_height": null,
            "align_content": null,
            "visibility": null,
            "align_self": null,
            "height": null,
            "min_height": null,
            "padding": null,
            "grid_auto_rows": null,
            "grid_gap": null,
            "max_width": null,
            "order": null,
            "_view_module_version": "1.2.0",
            "grid_template_areas": null,
            "object_position": null,
            "object_fit": null,
            "grid_auto_columns": null,
            "margin": null,
            "display": null,
            "left": null
          }
        },
        "a2147654aca84229b89bde01ad5590af": {
          "model_module": "@jupyter-widgets/controls",
          "model_name": "FloatProgressModel",
          "state": {
            "_view_name": "ProgressView",
            "style": "IPY_MODEL_0275bdb4bade4d4eafc3c64a1ab9f23d",
            "_dom_classes": [],
            "description": "",
            "_model_name": "FloatProgressModel",
            "bar_style": "info",
            "max": 1,
            "_view_module": "@jupyter-widgets/controls",
            "_model_module_version": "1.5.0",
            "value": 1,
            "_view_count": null,
            "_view_module_version": "1.5.0",
            "orientation": "horizontal",
            "min": 0,
            "description_tooltip": null,
            "_model_module": "@jupyter-widgets/controls",
            "layout": "IPY_MODEL_4fd276e782444038b4ace0b6a1a2670f"
          }
        },
        "e4bec35bf8a24843ae9acb70326ade16": {
          "model_module": "@jupyter-widgets/controls",
          "model_name": "HTMLModel",
          "state": {
            "_view_name": "HTMLView",
            "style": "IPY_MODEL_f4197e88aa2b4252b29695434e36d7df",
            "_dom_classes": [],
            "description": "",
            "_model_name": "HTMLModel",
            "placeholder": "​",
            "_view_module": "@jupyter-widgets/controls",
            "_model_module_version": "1.5.0",
            "value": " 170500096/? [00:20&lt;00:00, 33957450.68it/s]",
            "_view_count": null,
            "_view_module_version": "1.5.0",
            "description_tooltip": null,
            "_model_module": "@jupyter-widgets/controls",
            "layout": "IPY_MODEL_2fb433a261c145408a504c96bc29a93d"
          }
        },
        "0275bdb4bade4d4eafc3c64a1ab9f23d": {
          "model_module": "@jupyter-widgets/controls",
          "model_name": "ProgressStyleModel",
          "state": {
            "_view_name": "StyleView",
            "_model_name": "ProgressStyleModel",
            "description_width": "initial",
            "_view_module": "@jupyter-widgets/base",
            "_model_module_version": "1.5.0",
            "_view_count": null,
            "_view_module_version": "1.2.0",
            "bar_color": null,
            "_model_module": "@jupyter-widgets/controls"
          }
        },
        "4fd276e782444038b4ace0b6a1a2670f": {
          "model_module": "@jupyter-widgets/base",
          "model_name": "LayoutModel",
          "state": {
            "_view_name": "LayoutView",
            "grid_template_rows": null,
            "right": null,
            "justify_content": null,
            "_view_module": "@jupyter-widgets/base",
            "overflow": null,
            "_model_module_version": "1.2.0",
            "_view_count": null,
            "flex_flow": null,
            "width": null,
            "min_width": null,
            "border": null,
            "align_items": null,
            "bottom": null,
            "_model_module": "@jupyter-widgets/base",
            "top": null,
            "grid_column": null,
            "overflow_y": null,
            "overflow_x": null,
            "grid_auto_flow": null,
            "grid_area": null,
            "grid_template_columns": null,
            "flex": null,
            "_model_name": "LayoutModel",
            "justify_items": null,
            "grid_row": null,
            "max_height": null,
            "align_content": null,
            "visibility": null,
            "align_self": null,
            "height": null,
            "min_height": null,
            "padding": null,
            "grid_auto_rows": null,
            "grid_gap": null,
            "max_width": null,
            "order": null,
            "_view_module_version": "1.2.0",
            "grid_template_areas": null,
            "object_position": null,
            "object_fit": null,
            "grid_auto_columns": null,
            "margin": null,
            "display": null,
            "left": null
          }
        },
        "f4197e88aa2b4252b29695434e36d7df": {
          "model_module": "@jupyter-widgets/controls",
          "model_name": "DescriptionStyleModel",
          "state": {
            "_view_name": "StyleView",
            "_model_name": "DescriptionStyleModel",
            "description_width": "",
            "_view_module": "@jupyter-widgets/base",
            "_model_module_version": "1.5.0",
            "_view_count": null,
            "_view_module_version": "1.2.0",
            "_model_module": "@jupyter-widgets/controls"
          }
        },
        "2fb433a261c145408a504c96bc29a93d": {
          "model_module": "@jupyter-widgets/base",
          "model_name": "LayoutModel",
          "state": {
            "_view_name": "LayoutView",
            "grid_template_rows": null,
            "right": null,
            "justify_content": null,
            "_view_module": "@jupyter-widgets/base",
            "overflow": null,
            "_model_module_version": "1.2.0",
            "_view_count": null,
            "flex_flow": null,
            "width": null,
            "min_width": null,
            "border": null,
            "align_items": null,
            "bottom": null,
            "_model_module": "@jupyter-widgets/base",
            "top": null,
            "grid_column": null,
            "overflow_y": null,
            "overflow_x": null,
            "grid_auto_flow": null,
            "grid_area": null,
            "grid_template_columns": null,
            "flex": null,
            "_model_name": "LayoutModel",
            "justify_items": null,
            "grid_row": null,
            "max_height": null,
            "align_content": null,
            "visibility": null,
            "align_self": null,
            "height": null,
            "min_height": null,
            "padding": null,
            "grid_auto_rows": null,
            "grid_gap": null,
            "max_width": null,
            "order": null,
            "_view_module_version": "1.2.0",
            "grid_template_areas": null,
            "object_position": null,
            "object_fit": null,
            "grid_auto_columns": null,
            "margin": null,
            "display": null,
            "left": null
          }
        }
      }
    }
  },
  "cells": [
    {
      "cell_type": "code",
      "metadata": {
        "id": "dBnYY-lgOno7"
      },
      "source": [
        "import torch\n",
        "import torch.nn as nn\n",
        "from dataloaders import load_cifar10\n",
        "from trainer import Trainer, compute_loss_and_accuracy\n",
        "from task2 import create_plots"
      ],
      "execution_count": null,
      "outputs": []
    },
    {
      "cell_type": "code",
      "metadata": {
        "id": "EydkXlHNOgqF"
      },
      "source": [
        "class ModelTask2(nn.Module):\n",
        "\n",
        "    def __init__(self,\n",
        "                 image_channels,\n",
        "                 num_classes):\n",
        "        \"\"\"\n",
        "            Is called when model is initialized.\n",
        "            Args:\n",
        "\n",
        "                image_channels. Number of color channels in image (3)\n",
        "                num_classes: Number of classes we want to predict (10)\n",
        "        \"\"\"\n",
        "\n",
        "\n",
        "\n",
        "        super().__init__()\n",
        "        # TODO: Implement this function (Task  2a)\n",
        "\n",
        "        self.num_classes = num_classes\n",
        "        # Define the convolutional layers\n",
        "        self.feature_extractor = nn.Sequential( # The output of feature_extractor_1 will be [batch_size, num_filters, 16, 16]            #Layer1\n",
        "            #Layer 1\n",
        "            nn.Conv2d(\n",
        "                in_channels=3,\n",
        "                out_channels=32,\n",
        "                kernel_size=3,\n",
        "                stride=1,\n",
        "                padding=1\n",
        "            ),\n",
        "            nn.ReLU(),\n",
        "            nn.MaxPool2d(kernel_size=2,stride=2),\n",
        "            #Layer 2\n",
        "            nn.Conv2d(\n",
        "                in_channels=32,\n",
        "                out_channels=64,\n",
        "                kernel_size=3,\n",
        "                stride=1,\n",
        "                padding=1\n",
        "            ),\n",
        "            nn.ReLU(),\n",
        "            nn.MaxPool2d(kernel_size=2,stride=2),\n",
        "            #Layer 3\n",
        "            nn.Conv2d(\n",
        "                in_channels=64,\n",
        "                out_channels=128,\n",
        "                kernel_size=3,\n",
        "                stride=1,\n",
        "                padding=1\n",
        "            ),\n",
        "            nn.ReLU(),\n",
        "            nn.MaxPool2d(kernel_size=2,stride=2),\n",
        "        )\n",
        "        \n",
        "        #Fully connected below\n",
        "        self.fc = nn.Sequential(\n",
        "            nn.Linear(128*4*4, 64), #after 3 maxpools where each halves \"x-y\" dimensions\n",
        "            nn.ReLU(),\n",
        "            nn.BatchNorm1d(64),\n",
        "            nn.Linear(64, 10),\n",
        "        )\n",
        "\n",
        "        self.num_output_features = 32*32*32\n",
        "        # Initialize our last fully connected layer\n",
        "        # Inputs all extracted features from the convolutional layers\n",
        "        # Outputs num_classes predictions, 1 for each class.\n",
        "        # There is no need for softmax activation function, as this is\n",
        "        # included with nn.CrossEntropyLoss\n",
        "       \n",
        "\n",
        "    def forward(self, x):\n",
        "        \"\"\"\n",
        "        Performs a forward pass through the model\n",
        "        Args:\n",
        "            x: Input image, shape: [batch_size, 3, 32, 32]\n",
        "        \"\"\"\n",
        "        # TODO: Implement this function (Task  2a)\n",
        "        batch_size = x.shape[0]\n",
        "        out = x\n",
        "        expected_shape = (batch_size, self.num_classes)\n",
        "        out = self.feature_extractor(out)\n",
        "        out = out.view(batch_size, -1)\n",
        "        out = self.fc(out)  \n",
        "        \n",
        "        \n",
        "        assert out.shape == (batch_size, self.num_classes),\\\n",
        "            f\"Expected output of forward pass to be: {expected_shape}, but got: {out.shape}\"\n",
        "        return out"
      ],
      "execution_count": null,
      "outputs": []
    },
    {
      "cell_type": "code",
      "metadata": {
        "colab": {
          "base_uri": "https://localhost:8080/",
          "height": 885,
          "referenced_widgets": [
            "4be6100aa46d4928a9d65b91e7e68a80",
            "58ed161222d2441aa14a9a058b9ce85f",
            "a2147654aca84229b89bde01ad5590af",
            "e4bec35bf8a24843ae9acb70326ade16",
            "0275bdb4bade4d4eafc3c64a1ab9f23d",
            "4fd276e782444038b4ace0b6a1a2670f",
            "f4197e88aa2b4252b29695434e36d7df",
            "2fb433a261c145408a504c96bc29a93d"
          ]
        },
        "id": "HnM7IJteOvXa",
        "outputId": "6cb53f78-130d-4ead-8d70-a1a033101ed7"
      },
      "source": [
        "epochs = 10\n",
        "batch_size = 64\n",
        "learning_rate = 5e-2 # Should be 5e-5 for LeNet\n",
        "early_stop_count = 7\n",
        "dataloaders = load_cifar10(batch_size)\n",
        "model_1 = ModelTask2(image_channels=3, num_classes=10)\n",
        "trainer_1 = Trainer(\n",
        "    batch_size,\n",
        "    learning_rate,\n",
        "    early_stop_count,\n",
        "    epochs,\n",
        "    model_1,\n",
        "    dataloaders,\n",
        ")\n",
        "trainer_1.train()"
      ],
      "execution_count": null,
      "outputs": [
        {
          "output_type": "stream",
          "text": [
            "Downloading https://www.cs.toronto.edu/~kriz/cifar-10-python.tar.gz to data/cifar10/cifar-10-python.tar.gz\n"
          ],
          "name": "stdout"
        },
        {
          "output_type": "display_data",
          "data": {
            "application/vnd.jupyter.widget-view+json": {
              "model_id": "4be6100aa46d4928a9d65b91e7e68a80",
              "version_minor": 0,
              "version_major": 2
            },
            "text/plain": [
              "HBox(children=(FloatProgress(value=1.0, bar_style='info', max=1.0), HTML(value='')))"
            ]
          },
          "metadata": {
            "tags": []
          }
        },
        {
          "output_type": "stream",
          "text": [
            "Extracting data/cifar10/cifar-10-python.tar.gz to data/cifar10\n",
            "Files already downloaded and verified\n"
          ],
          "name": "stdout"
        },
        {
          "output_type": "stream",
          "text": [
            "\r  0%|          | 0/10 [00:00<?, ?it/s]"
          ],
          "name": "stderr"
        },
        {
          "output_type": "stream",
          "text": [
            "ModelTask2(\n",
            "  (feature_extractor): Sequential(\n",
            "    (0): Conv2d(3, 32, kernel_size=(3, 3), stride=(1, 1), padding=(1, 1))\n",
            "    (1): ReLU()\n",
            "    (2): MaxPool2d(kernel_size=2, stride=2, padding=0, dilation=1, ceil_mode=False)\n",
            "    (3): Conv2d(32, 64, kernel_size=(3, 3), stride=(1, 1), padding=(1, 1))\n",
            "    (4): ReLU()\n",
            "    (5): MaxPool2d(kernel_size=2, stride=2, padding=0, dilation=1, ceil_mode=False)\n",
            "    (6): Conv2d(64, 128, kernel_size=(3, 3), stride=(1, 1), padding=(1, 1))\n",
            "    (7): ReLU()\n",
            "    (8): MaxPool2d(kernel_size=2, stride=2, padding=0, dilation=1, ceil_mode=False)\n",
            "  )\n",
            "  (fc): Sequential(\n",
            "    (0): Linear(in_features=2048, out_features=64, bias=True)\n",
            "    (1): ReLU()\n",
            "    (2): BatchNorm1d(64, eps=1e-05, momentum=0.1, affine=True, track_running_stats=True)\n",
            "    (3): Linear(in_features=64, out_features=10, bias=True)\n",
            "  )\n",
            "  (classifier): Sequential(\n",
            "    (0): Linear(in_features=2048, out_features=64, bias=True)\n",
            "    (1): ReLU()\n",
            "    (2): BatchNorm1d(64, eps=1e-05, momentum=0.1, affine=True, track_running_stats=True)\n",
            "    (3): Linear(in_features=64, out_features=10, bias=True)\n",
            "  )\n",
            ")\n",
            "Epoch: 0, Batches per seconds: 36.72, Global step:    351, Validation Loss: 1.71, Validation Accuracy: 0.448\n"
          ],
          "name": "stdout"
        },
        {
          "output_type": "stream",
          "text": [
            "\r 10%|█         | 1/10 [00:18<02:50, 18.90s/it]"
          ],
          "name": "stderr"
        },
        {
          "output_type": "stream",
          "text": [
            "Epoch: 0, Batches per seconds: 37.24, Global step:    702, Validation Loss: 1.05, Validation Accuracy: 0.627\n",
            "Epoch: 1, Batches per seconds: 37.16, Global step:   1053, Validation Loss: 0.92, Validation Accuracy: 0.683\n"
          ],
          "name": "stdout"
        },
        {
          "output_type": "stream",
          "text": [
            "\r 20%|██        | 2/10 [00:37<02:30, 18.85s/it]"
          ],
          "name": "stderr"
        },
        {
          "output_type": "stream",
          "text": [
            "Epoch: 1, Batches per seconds: 37.38, Global step:   1404, Validation Loss: 0.97, Validation Accuracy: 0.664\n",
            "Epoch: 2, Batches per seconds: 37.25, Global step:   1755, Validation Loss: 0.98, Validation Accuracy: 0.672\n"
          ],
          "name": "stdout"
        },
        {
          "output_type": "stream",
          "text": [
            "\r 30%|███       | 3/10 [00:56<02:12, 18.89s/it]"
          ],
          "name": "stderr"
        },
        {
          "output_type": "stream",
          "text": [
            "Epoch: 2, Batches per seconds: 37.24, Global step:   2106, Validation Loss: 0.90, Validation Accuracy: 0.686\n",
            "Epoch: 3, Batches per seconds: 37.24, Global step:   2457, Validation Loss: 0.78, Validation Accuracy: 0.732\n"
          ],
          "name": "stdout"
        },
        {
          "output_type": "stream",
          "text": [
            "\r 40%|████      | 4/10 [01:15<01:53, 18.85s/it]"
          ],
          "name": "stderr"
        },
        {
          "output_type": "stream",
          "text": [
            "Epoch: 3, Batches per seconds: 37.31, Global step:   2808, Validation Loss: 0.92, Validation Accuracy: 0.690\n",
            "Epoch: 4, Batches per seconds: 37.23, Global step:   3159, Validation Loss: 0.84, Validation Accuracy: 0.723\n"
          ],
          "name": "stdout"
        },
        {
          "output_type": "stream",
          "text": [
            "\r 50%|█████     | 5/10 [01:34<01:34, 18.85s/it]"
          ],
          "name": "stderr"
        },
        {
          "output_type": "stream",
          "text": [
            "Epoch: 4, Batches per seconds: 37.30, Global step:   3510, Validation Loss: 0.77, Validation Accuracy: 0.734\n",
            "Epoch: 5, Batches per seconds: 37.25, Global step:   3861, Validation Loss: 0.80, Validation Accuracy: 0.738\n"
          ],
          "name": "stdout"
        },
        {
          "output_type": "stream",
          "text": [
            "\r 60%|██████    | 6/10 [01:53<01:15, 18.84s/it]"
          ],
          "name": "stderr"
        },
        {
          "output_type": "stream",
          "text": [
            "Epoch: 5, Batches per seconds: 37.31, Global step:   4212, Validation Loss: 0.75, Validation Accuracy: 0.748\n",
            "Epoch: 6, Batches per seconds: 37.29, Global step:   4563, Validation Loss: 0.78, Validation Accuracy: 0.740\n"
          ],
          "name": "stdout"
        },
        {
          "output_type": "stream",
          "text": [
            "\r 70%|███████   | 7/10 [02:11<00:56, 18.83s/it]"
          ],
          "name": "stderr"
        },
        {
          "output_type": "stream",
          "text": [
            "Epoch: 6, Batches per seconds: 37.32, Global step:   4914, Validation Loss: 0.79, Validation Accuracy: 0.740\n",
            "Epoch: 7, Batches per seconds: 37.26, Global step:   5265, Validation Loss: 0.84, Validation Accuracy: 0.735\n"
          ],
          "name": "stdout"
        },
        {
          "output_type": "stream",
          "text": [
            "\r 80%|████████  | 8/10 [02:30<00:37, 18.85s/it]"
          ],
          "name": "stderr"
        },
        {
          "output_type": "stream",
          "text": [
            "Epoch: 7, Batches per seconds: 37.30, Global step:   5616, Validation Loss: 0.80, Validation Accuracy: 0.748\n",
            "Epoch: 8, Batches per seconds: 37.28, Global step:   5967, Validation Loss: 0.83, Validation Accuracy: 0.747\n",
            "Epoch: 8, Batches per seconds: 37.32, Global step:   6318, Validation Loss: 0.86, Validation Accuracy: 0.746\n",
            "Early stop criteria met\n",
            "Early stopping.\n"
          ],
          "name": "stdout"
        }
      ]
    },
    {
      "cell_type": "code",
      "metadata": {
        "colab": {
          "base_uri": "https://localhost:8080/",
          "height": 442
        },
        "id": "axpmiw1nOxIq",
        "outputId": "de2fd506-65b3-457e-fcad-969f3c362ad1"
      },
      "source": [
        "create_plots(trainer_1, \"task2\")"
      ],
      "execution_count": null,
      "outputs": [
        {
          "output_type": "display_data",
          "data": {
            "image/png": "[encoded data removed]",
            "text/plain": [
              "<Figure size 1440x576 with 2 Axes>"
            ]
          },
          "metadata": {
            "tags": [],
            "needs_background": "light"
          }
        }
      ]
    },
    {
      "cell_type": "code",
      "metadata": {
        "colab": {
          "base_uri": "https://localhost:8080/"
        },
        "id": "qxMcInmQO_68",
        "outputId": "8ec9b370-30c6-43cc-bd32-53eb8acb9a5e"
      },
      "source": [
        "trainer_1.load_best_model()\n",
        "test_set = trainer_1.dataloader_test\n",
        "val_set = trainer_1.dataloader_val\n",
        "train_set = trainer_1.dataloader_train\n",
        "\n",
        "#create_plots(trainer, \"task2_1\")\n",
        "print(compute_loss_and_accuracy(dataloader=test_set,model = model_1, loss_criterion=nn.CrossEntropyLoss()))\n",
        "print(compute_loss_and_accuracy(dataloader=val_set,model = model_1, loss_criterion=nn.CrossEntropyLoss()))"
      ],
      "execution_count": null,
      "outputs": [
        {
          "output_type": "stream",
          "text": [
            "(tensor(0.7825, device='cuda:0'), 0.7426)\n",
            "(tensor(0.7520, device='cuda:0'), 0.7544)\n"
          ],
          "name": "stdout"
        }
      ]
    }
  ]
}