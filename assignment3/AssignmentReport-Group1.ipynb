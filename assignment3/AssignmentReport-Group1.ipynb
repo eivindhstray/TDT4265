{
 "cells": [
  {
   "cell_type": "markdown",
   "metadata": {},
   "source": [
    "# Assignment 1 Report"
   ]
  },
  {
   "cell_type": "markdown",
   "metadata": {},
   "source": [
    "This is an outline for your report to ease the amount of work required to create your report. Jupyter notebook supports markdown, and I recommend you to check out this [cheat sheet](https://github.com/adam-p/markdown-here/wiki/Markdown-Cheatsheet). If you are not familiar with markdown.\n",
    "\n",
    "Before delivery, **remember to convert this file to PDF**. You can do it in two ways:\n",
    "1. Print the webpage (ctrl+P or cmd+P)\n",
    "2. Export with latex. This is somewhat more difficult, but you'll get somehwat of a \"prettier\" PDF. Go to File -> Download as -> PDF via LaTeX. You might have to install nbconvert and pandoc through conda; `conda install nbconvert pandoc`."
   ]
  },
  {
   "cell_type": "markdown",
   "metadata": {},
   "source": [
    "# Task 1"
   ]
  },
  {
   "cell_type": "markdown",
   "metadata": {},
   "source": [
    "## task 1a)\n",
    "\n",
    "Convolving the given image with the sobel kernel produces the following output:\n",
    "\n",
    "<div>\n",
    "<img src=\"Convolution_1a.png\" width=\"300\"/>\n",
    "</div>\n",
    "\n",
    "Here, we have used zero-padding which is frequently used when applying spatial convolution. We could also have extended the borders or used other techniques, but zero padding also makes the operation simpler when computing by hand. I get the oposite values in Matlab(...?)\n",
    "\n",
    "-6 shoulb be 6!\n"
   ]
  },
  {
   "cell_type": "markdown",
   "metadata": {},
   "source": [
    "## task 1b)\n",
    "\n",
    "Fill in image of hand-written notes which are easy to read, or latex equations here\n",
    "\n",
    "## task 1c)\n",
    "\n",
    "Fill in task 1a image of hand-written notes which are easy to read, or latex equations here\n",
    "\n",
    "## task 1c)\n",
    "\n",
    "Fill in task 1a image of hand-written notes which are easy to read, or latex equations here\n",
    "## task 1d)\n",
    "\n",
    "Fill in task 1a image of hand-written notes which are easy to read, or latex equations here\n",
    "## task 1e)\n",
    "\n",
    "Fill in task 1a image of hand-written notes which are easy to read, or latex equations here\n",
    "## task 1f)\n",
    "\n",
    "Fill in task 1a image of hand-written notes which are easy to read, or latex equations here\n",
    "## task 1g)\n",
    "\n",
    "Fill in task 1a image of hand-written notes which are easy to read, or latex equations here"
   ]
  },
  {
   "cell_type": "markdown",
   "metadata": {},
   "source": [
    "# Task 2\n",
    "\n",
    "### Task 2a)\n",
    "\n",
    "![](plots/task2_plot.png)\n",
    "\n",
    "### Task 2b)\n",
    "\n",
    "The test accuracy ended up at 0.7301 or 73.01% while the test accuracy ended up at 72.62%. The final training accuracy was noticably higher at 81.25%.\n",
    "\n"
   ]
  },
  {
   "cell_type": "markdown",
   "metadata": {},
   "source": [
    "# Task 3"
   ]
  },
  {
   "cell_type": "markdown",
   "metadata": {},
   "source": [
    "### Task 3a)\n",
    "We improved the model step by step to see the impact of different actions. Adding dropout between each convolution layer with probabilities of 0.2,0.2 and 0.3 accordingly resulted in less overfitting. The next thing was adding batch normalization between every layer which resulted in faster training.\n",
    "\n",
    "We then added data augmentation with the following transformations for the training set: \n",
    "- Horizontal rotation with probability of 0.5.\n",
    "- Random rotations between -20 and 20 degrees.\n",
    "- Conversion to grayscale with default probability of 0.1.\n",
    "\n",
    "Finally, we increased the learning rate by a factor of 10 from $10^{-2}$ to $10^{-1}$. This greatly impacted the training speed, surprisingly without making the training unstable. There was, however, clearer signs of overfitting.\n",
    "\n",
    "At this point, the test accuracy had increased from around 70% to close to 75%.\n",
    "\n",
    "We then decreased the training again to $5 \\cdot 10^{-2}$, in between the two previously attempted.\n",
    "\n",
    "Finally, we modified the first layer to consist of two convolution - ReLu layers before the first maxpooling, resulting in a test accuracy of 0.7611 and a validation accuracy of 0.769.\n",
    "\n",
    "The plot can be found below.\n",
    "\n",
    "![](plots/task3a.png)\n",
    "\n",
    "\n",
    "### Task 3b)\n",
    "\n",
    "\n",
    "### Task 3c)\n",
    "### Task 3d)\n",
    "### Task 3e)\n",
    "### Task 3f)"
   ]
  },
  {
   "cell_type": "markdown",
   "metadata": {},
   "source": [
    "# Task 4"
   ]
  },
  {
   "cell_type": "markdown",
   "metadata": {},
   "source": [
    "## Task 4a)\n",
    "\n",
    "FILL IN ANSWER. "
   ]
  },
  {
   "cell_type": "markdown",
   "metadata": {},
   "source": [
    "## Task 4b)\n",
    "FILL IN ANSWER\n"
   ]
  },
  {
   "cell_type": "markdown",
   "metadata": {},
   "source": [
    "## Task 4c)\n",
    "FILL IN ANSWER"
   ]
  }
 ],
 "metadata": {
  "kernelspec": {
   "display_name": "Python 3.8.1 64-bit ('py38': conda)",
   "language": "python",
   "name": "python38164bitpy38condac1f68ca5407a4349b0d7e37676f2fbb3"
  },
  "language_info": {
   "codemirror_mode": {
    "name": "ipython",
    "version": 3
   },
   "file_extension": ".py",
   "mimetype": "text/x-python",
   "name": "python",
   "nbconvert_exporter": "python",
   "pygments_lexer": "ipython3",
   "version": "3.8.1"
  }
 },
 "nbformat": 4,
 "nbformat_minor": 4
}