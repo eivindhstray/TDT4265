{
  "nbformat": 4,
  "nbformat_minor": 0,
  "metadata": {
    "colab": {
      "name": "task3.ipynb",
      "provenance": [],
      "collapsed_sections": [],
      "toc_visible": true
    },
    "kernelspec": {
      "name": "python3",
      "display_name": "Python 3"
    },
    "accelerator": "GPU"
  },
  "cells": [
    {
      "cell_type": "code",
      "metadata": {
        "id": "xfn9-mD0x3YI"
      },
      "source": [
        "import torch\n",
        "import torch.nn as nn\n",
        "from trainer import Trainer, compute_loss_and_accuracy\n",
        "#from task2 import create_plots"
      ],
      "execution_count": 4,
      "outputs": []
    },
    {
      "cell_type": "code",
      "metadata": {
        "id": "MbfZS4Brz-Iq"
      },
      "source": [
        "from torchvision import transforms, datasets\n",
        "from torch.utils.data.sampler import SubsetRandomSampler\n",
        "import typing\n",
        "import numpy as np\n",
        "np.random.seed(0)\n",
        "\n",
        "\n",
        "mean=(0.485, 0.456, 0.406)\n",
        "std=(0.229, 0.224, 0.225)\n",
        "\n",
        "\n",
        "def load_cifar10(batch_size: int, validation_fraction: float = 0.1\n",
        "                 ) -> typing.List[torch.utils.data.DataLoader]:\n",
        "    # Note that transform train will apply the same transform for\n",
        "    # validation!\n",
        "    transform_train = transforms.Compose([\n",
        "        transforms.ToTensor(),\n",
        "        transforms.Normalize(mean, std),\n",
        "        #transforms.RandomHorizontalFlip(0.5),\n",
        "        #transforms.RandomRotation(20),\n",
        "        #transforms.RandomErasing(p=0.1)\n",
        "        #transforms.RandomGrayscale(),\n",
        "    ])\n",
        "    transform_test = transforms.Compose([\n",
        "        transforms.ToTensor(),\n",
        "        transforms.Normalize(mean, std)\n",
        "    ])\n",
        "    data_train = datasets.CIFAR10('data/cifar10',\n",
        "                                  train=True,\n",
        "                                  download=True,\n",
        "                                  transform=transform_train)\n",
        "\n",
        "    data_test = datasets.CIFAR10('data/cifar10',\n",
        "                                 train=False,\n",
        "                                 download=True,\n",
        "                                 transform=transform_test)\n",
        "\n",
        "    indices = list(range(len(data_train)))\n",
        "    split_idx = int(np.floor(validation_fraction * len(data_train)))\n",
        "\n",
        "    val_indices = np.random.choice(indices, size=split_idx, replace=False)\n",
        "    train_indices = list(set(indices) - set(val_indices))\n",
        "\n",
        "    train_sampler = SubsetRandomSampler(train_indices)\n",
        "    validation_sampler = SubsetRandomSampler(val_indices)\n",
        "\n",
        "    dataloader_train = torch.utils.data.DataLoader(data_train,\n",
        "                                                   sampler=train_sampler,\n",
        "                                                   batch_size=batch_size,\n",
        "                                                   num_workers=2,\n",
        "                                                   drop_last=True)\n",
        "\n",
        "    dataloader_val = torch.utils.data.DataLoader(data_train,\n",
        "                                                 sampler=validation_sampler,\n",
        "                                                 batch_size=batch_size,\n",
        "                                                 num_workers=2)\n",
        "\n",
        "    dataloader_test = torch.utils.data.DataLoader(data_test,\n",
        "                                                  batch_size=batch_size,\n",
        "                                                  shuffle=False,\n",
        "                                                  num_workers=2)\n",
        "\n",
        "    return dataloader_train, dataloader_val, dataloader_test\n"
      ],
      "execution_count": 5,
      "outputs": []
    },
    {
      "cell_type": "code",
      "metadata": {
        "id": "piYYuHM9xj3Y"
      },
      "source": [
        "class Model1(nn.Module):\n",
        "\n",
        "    def __init__(self,\n",
        "                 image_channels,\n",
        "                 num_classes):\n",
        "        \"\"\"\n",
        "            Is called when model is initialized.\n",
        "            Args:\n",
        "\n",
        "                image_channels. Number of color channels in image (3)\n",
        "                num_classes: Number of classes we want to predict (10)\n",
        "        \"\"\"\n",
        "\n",
        "\n",
        "\n",
        "        super().__init__()\n",
        "        # TODO: Implement this function (Task  2a)\n",
        "\n",
        "        self.num_classes = num_classes\n",
        "        # Define the convolutional layers\n",
        "        self.feature_extractor = nn.Sequential( # The output of feature_extractor_1 will be [batch_size, num_filters, 16, 16]            #Layer1\n",
        "            #Layer 1\n",
        "            nn.Conv2d(\n",
        "                in_channels=3,\n",
        "                out_channels=16,\n",
        "                kernel_size=3,\n",
        "                stride=1,\n",
        "                padding=1\n",
        "            ),\n",
        "            nn.ReLU(),\n",
        "            nn.Conv2d(\n",
        "                in_channels=16,\n",
        "                out_channels=32,\n",
        "                kernel_size=3,\n",
        "                stride=1,\n",
        "                padding=1\n",
        "            ),\n",
        "            nn.ReLU(),\n",
        "            nn.MaxPool2d(kernel_size=2,stride=2),\n",
        "            nn.Dropout(0.2),\n",
        "            nn.BatchNorm2d(32),\n",
        "            #Layer 2\n",
        "            nn.Conv2d(\n",
        "                in_channels=32,\n",
        "                out_channels=64,\n",
        "                kernel_size=3,\n",
        "                stride=1,\n",
        "                padding=1\n",
        "            ),\n",
        "            nn.ReLU(),\n",
        "            nn.MaxPool2d(kernel_size=2,stride=2),\n",
        "            nn.Dropout(0.2),\n",
        "            nn.BatchNorm2d(64),\n",
        "            #Layer 3\n",
        "            nn.Conv2d(\n",
        "                in_channels=64,\n",
        "                out_channels=128,\n",
        "                kernel_size=3,\n",
        "                stride=1,\n",
        "                padding=1\n",
        "            ),\n",
        "            nn.ReLU(),\n",
        "            nn.MaxPool2d(kernel_size=2,stride=2),\n",
        "            nn.Dropout(0.2),\n",
        "            nn.BatchNorm2d(128),\n",
        "            nn.Conv2d(\n",
        "                in_channels=128,\n",
        "                out_channels=256,\n",
        "                kernel_size=3,\n",
        "                stride=1,\n",
        "                padding=1\n",
        "            ),\n",
        "            nn.ReLU(),\n",
        "            nn.Dropout(0.3),\n",
        "            nn.BatchNorm2d(256),\n",
        "        )\n",
        "        \n",
        "        #Fully connected below\n",
        "        self.fc = self.classifier = nn.Sequential(\n",
        "            nn.Linear(256*4*4, 64), #after 3 maxpools where each halves \"x-y\" dimensions\n",
        "            nn.ReLU(),\n",
        "            nn.BatchNorm1d(64),\n",
        "            nn.Linear(64, 10),\n",
        "        )\n",
        "\n",
        "        self.num_output_features = 32*32*32\n",
        "        # Initialize our last fully connected layer\n",
        "        # Inputs all extracted features from the convolutional layers\n",
        "        # Outputs num_classes predictions, 1 for each class.\n",
        "        # There is no need for softmax activation function, as this is\n",
        "        # included with nn.CrossEntropyLoss\n",
        "       \n",
        "\n",
        "    def forward(self, x):\n",
        "        \"\"\"\n",
        "        Performs a forward pass through the model\n",
        "        Args:\n",
        "            x: Input image, shape: [batch_size, 3, 32, 32]\n",
        "        \"\"\"\n",
        "        # TODO: Implement this function (Task  2a)\n",
        "        batch_size = x.shape[0]\n",
        "        out = x\n",
        "        expected_shape = (batch_size, self.num_classes)\n",
        "        out = self.feature_extractor(out)\n",
        "        out = out.view(batch_size, -1)\n",
        "        out = self.fc(out)  \n",
        "        \n",
        "        \n",
        "        assert out.shape == (batch_size, self.num_classes),\\\n",
        "            f\"Expected output of forward pass to be: {expected_shape}, but got: {out.shape}\"\n",
        "        return out\n"
      ],
      "execution_count": 11,
      "outputs": []
    },
    {
      "cell_type": "code",
      "metadata": {
        "colab": {
          "base_uri": "https://localhost:8080/"
        },
        "id": "9vWOPlaEyACr",
        "outputId": "3041a52a-cfa1-4812-cd87-eca0b03b657b"
      },
      "source": [
        "epochs = 10\n",
        "batch_size = 64\n",
        "learning_rate = 3e-2 # Should be 5e-5 for LeNet\n",
        "early_stop_count = 10\n",
        "dataloaders = load_cifar10(batch_size)\n",
        "model = Model1(image_channels=3, num_classes=10)\n",
        "trainer = Trainer(\n",
        "    batch_size,\n",
        "    learning_rate,\n",
        "    early_stop_count,\n",
        "    epochs,\n",
        "    model,\n",
        "    dataloaders,\n",
        ")\n",
        "trainer.train()"
      ],
      "execution_count": 12,
      "outputs": [
        {
          "output_type": "stream",
          "text": [
            "Files already downloaded and verified\n",
            "Files already downloaded and verified\n"
          ],
          "name": "stdout"
        },
        {
          "output_type": "stream",
          "text": [
            "\r  0%|          | 0/10 [00:00<?, ?it/s]"
          ],
          "name": "stderr"
        },
        {
          "output_type": "stream",
          "text": [
            "Model1(\n",
            "  (feature_extractor): Sequential(\n",
            "    (0): Conv2d(3, 16, kernel_size=(3, 3), stride=(1, 1), padding=(1, 1))\n",
            "    (1): ReLU()\n",
            "    (2): Conv2d(16, 32, kernel_size=(3, 3), stride=(1, 1), padding=(1, 1))\n",
            "    (3): ReLU()\n",
            "    (4): MaxPool2d(kernel_size=2, stride=2, padding=0, dilation=1, ceil_mode=False)\n",
            "    (5): Dropout(p=0.2, inplace=False)\n",
            "    (6): BatchNorm2d(32, eps=1e-05, momentum=0.1, affine=True, track_running_stats=True)\n",
            "    (7): Conv2d(32, 64, kernel_size=(3, 3), stride=(1, 1), padding=(1, 1))\n",
            "    (8): ReLU()\n",
            "    (9): MaxPool2d(kernel_size=2, stride=2, padding=0, dilation=1, ceil_mode=False)\n",
            "    (10): Dropout(p=0.2, inplace=False)\n",
            "    (11): BatchNorm2d(64, eps=1e-05, momentum=0.1, affine=True, track_running_stats=True)\n",
            "    (12): Conv2d(64, 128, kernel_size=(3, 3), stride=(1, 1), padding=(1, 1))\n",
            "    (13): ReLU()\n",
            "    (14): MaxPool2d(kernel_size=2, stride=2, padding=0, dilation=1, ceil_mode=False)\n",
            "    (15): Dropout(p=0.2, inplace=False)\n",
            "    (16): BatchNorm2d(128, eps=1e-05, momentum=0.1, affine=True, track_running_stats=True)\n",
            "    (17): Conv2d(128, 256, kernel_size=(3, 3), stride=(1, 1), padding=(1, 1))\n",
            "    (18): ReLU()\n",
            "    (19): Dropout(p=0.3, inplace=False)\n",
            "    (20): BatchNorm2d(256, eps=1e-05, momentum=0.1, affine=True, track_running_stats=True)\n",
            "  )\n",
            "  (fc): Sequential(\n",
            "    (0): Linear(in_features=4096, out_features=64, bias=True)\n",
            "    (1): ReLU()\n",
            "    (2): BatchNorm1d(64, eps=1e-05, momentum=0.1, affine=True, track_running_stats=True)\n",
            "    (3): Linear(in_features=64, out_features=10, bias=True)\n",
            "  )\n",
            "  (classifier): Sequential(\n",
            "    (0): Linear(in_features=4096, out_features=64, bias=True)\n",
            "    (1): ReLU()\n",
            "    (2): BatchNorm1d(64, eps=1e-05, momentum=0.1, affine=True, track_running_stats=True)\n",
            "    (3): Linear(in_features=64, out_features=10, bias=True)\n",
            "  )\n",
            ")\n",
            "Epoch: 0, Batches per seconds: 46.49, Global step:    351, Validation Loss: 1.32, Validation Accuracy: 0.536\n"
          ],
          "name": "stdout"
        },
        {
          "output_type": "stream",
          "text": [
            "\r 10%|█         | 1/10 [00:14<02:14, 14.92s/it]"
          ],
          "name": "stderr"
        },
        {
          "output_type": "stream",
          "text": [
            "Epoch: 0, Batches per seconds: 47.28, Global step:    702, Validation Loss: 1.03, Validation Accuracy: 0.624\n",
            "Epoch: 1, Batches per seconds: 46.85, Global step:   1053, Validation Loss: 0.94, Validation Accuracy: 0.673\n"
          ],
          "name": "stdout"
        },
        {
          "output_type": "stream",
          "text": [
            "\r 20%|██        | 2/10 [00:29<01:59, 14.95s/it]"
          ],
          "name": "stderr"
        },
        {
          "output_type": "stream",
          "text": [
            "Epoch: 1, Batches per seconds: 47.00, Global step:   1404, Validation Loss: 0.90, Validation Accuracy: 0.681\n",
            "Epoch: 2, Batches per seconds: 46.82, Global step:   1755, Validation Loss: 0.83, Validation Accuracy: 0.708\n"
          ],
          "name": "stdout"
        },
        {
          "output_type": "stream",
          "text": [
            "\r 30%|███       | 3/10 [00:44<01:44, 14.96s/it]"
          ],
          "name": "stderr"
        },
        {
          "output_type": "stream",
          "text": [
            "Epoch: 2, Batches per seconds: 46.97, Global step:   2106, Validation Loss: 0.76, Validation Accuracy: 0.731\n",
            "Epoch: 3, Batches per seconds: 46.70, Global step:   2457, Validation Loss: 0.75, Validation Accuracy: 0.740\n"
          ],
          "name": "stdout"
        },
        {
          "output_type": "stream",
          "text": [
            "\r 40%|████      | 4/10 [00:59<01:29, 14.95s/it]"
          ],
          "name": "stderr"
        },
        {
          "output_type": "stream",
          "text": [
            "Epoch: 3, Batches per seconds: 47.02, Global step:   2808, Validation Loss: 0.71, Validation Accuracy: 0.756\n",
            "Epoch: 4, Batches per seconds: 47.07, Global step:   3159, Validation Loss: 0.74, Validation Accuracy: 0.747\n"
          ],
          "name": "stdout"
        },
        {
          "output_type": "stream",
          "text": [
            "\r 50%|█████     | 5/10 [01:14<01:14, 14.94s/it]"
          ],
          "name": "stderr"
        },
        {
          "output_type": "stream",
          "text": [
            "Epoch: 4, Batches per seconds: 47.03, Global step:   3510, Validation Loss: 0.67, Validation Accuracy: 0.773\n",
            "Epoch: 5, Batches per seconds: 46.86, Global step:   3861, Validation Loss: 0.75, Validation Accuracy: 0.776\n"
          ],
          "name": "stdout"
        },
        {
          "output_type": "stream",
          "text": [
            "\r 60%|██████    | 6/10 [01:29<00:59, 14.95s/it]"
          ],
          "name": "stderr"
        },
        {
          "output_type": "stream",
          "text": [
            "Epoch: 5, Batches per seconds: 47.02, Global step:   4212, Validation Loss: 1.06, Validation Accuracy: 0.785\n",
            "Epoch: 6, Batches per seconds: 46.95, Global step:   4563, Validation Loss: 0.61, Validation Accuracy: 0.788\n"
          ],
          "name": "stdout"
        },
        {
          "output_type": "stream",
          "text": [
            "\r 70%|███████   | 7/10 [01:44<00:44, 14.96s/it]"
          ],
          "name": "stderr"
        },
        {
          "output_type": "stream",
          "text": [
            "Epoch: 6, Batches per seconds: 47.00, Global step:   4914, Validation Loss: 0.62, Validation Accuracy: 0.792\n",
            "Epoch: 7, Batches per seconds: 47.05, Global step:   5265, Validation Loss: 0.57, Validation Accuracy: 0.803\n"
          ],
          "name": "stdout"
        },
        {
          "output_type": "stream",
          "text": [
            "\r 80%|████████  | 8/10 [01:59<00:29, 14.86s/it]"
          ],
          "name": "stderr"
        },
        {
          "output_type": "stream",
          "text": [
            "Epoch: 7, Batches per seconds: 47.13, Global step:   5616, Validation Loss: 0.60, Validation Accuracy: 0.796\n",
            "Epoch: 8, Batches per seconds: 47.06, Global step:   5967, Validation Loss: 0.58, Validation Accuracy: 0.806\n",
            "Epoch: 8, Batches per seconds: 47.13, Global step:   6318, Validation Loss: 0.62, Validation Accuracy: 0.803\n"
          ],
          "name": "stdout"
        },
        {
          "output_type": "stream",
          "text": [
            "\r 90%|█████████ | 9/10 [02:14<00:14, 14.88s/it]"
          ],
          "name": "stderr"
        },
        {
          "output_type": "stream",
          "text": [
            "Epoch: 9, Batches per seconds: 47.09, Global step:   6669, Validation Loss: 0.56, Validation Accuracy: 0.814\n",
            "Epoch: 9, Batches per seconds: 47.11, Global step:   7020, Validation Loss: 0.56, Validation Accuracy: 0.813\n"
          ],
          "name": "stdout"
        },
        {
          "output_type": "stream",
          "text": [
            "100%|██████████| 10/10 [02:29<00:00, 14.92s/it]\n"
          ],
          "name": "stderr"
        }
      ]
    },
    {
      "cell_type": "code",
      "metadata": {
        "colab": {
          "base_uri": "https://localhost:8080/"
        },
        "id": "ajYHONUy5fwb",
        "outputId": "a64f5c44-0ebc-4d4d-d8a1-4ed91a587596"
      },
      "source": [
        "trainer.load_best_model()\n",
        "test_set = trainer.dataloader_test\n",
        "val_set = trainer.dataloader_val\n",
        "train_set = trainer.dataloader_train\n",
        "\n",
        "#create_plots(trainer, \"task2_1\")\n",
        "print(compute_loss_and_accuracy(dataloader=test_set,model = model, loss_criterion=nn.CrossEntropyLoss()))\n",
        "print(compute_loss_and_accuracy(dataloader=val_set,model = model, loss_criterion=nn.CrossEntropyLoss()))\n",
        "print(compute_loss_and_accuracy(dataloader=train_set,model = model, loss_criterion=nn.CrossEntropyLoss()))"
      ],
      "execution_count": 15,
      "outputs": [
        {
          "output_type": "stream",
          "text": [
            "(tensor(0.7233, device='cuda:0'), 0.7656)\n",
            "(tensor(0.7092, device='cuda:0'), 0.7606)\n",
            "(tensor(0.5097, device='cuda:0'), 0.8217238620199147)\n"
          ],
          "name": "stdout"
        }
      ]
    },
    {
      "cell_type": "code",
      "metadata": {
        "colab": {
          "base_uri": "https://localhost:8080/",
          "height": 442
        },
        "id": "zAemK9yJIQce",
        "outputId": "6cba842e-7268-4061-c933-7ce0f4650519"
      },
      "source": [
        "import matplotlib.pyplot as plt\n",
        "import pathlib\n",
        "import utils\n",
        "\n",
        "def plot(task):\n",
        "  plot_path = pathlib.Path(\"plots\")\n",
        "  plot_path.mkdir(exist_ok=True)\n",
        "  # Save plots and show them\n",
        "  plt.figure(figsize=(20, 8))\n",
        "  plt.subplot(1, 2, 1)\n",
        "  plt.title(\"Cross Entropy Loss\")\n",
        "  utils.plot_loss(trainer.train_history[\"loss\"], label=\"Training loss\", npoints_to_average=10)\n",
        "  utils.plot_loss(trainer.validation_history[\"loss\"], label=\"Validation loss\")\n",
        "  plt.legend()\n",
        "  plt.subplot(1, 2, 2)\n",
        "  plt.title(\"Accuracy\")\n",
        "  utils.plot_loss(trainer.validation_history[\"accuracy\"], label=\"Validation Accuracy\")\n",
        "  plt.legend()\n",
        "  plt.savefig(plot_path.joinpath(f\"plotTask{task}.png\"))\n",
        "  plt.show()\n",
        "\n",
        "plot(\"3c\")"
      ],
      "execution_count": 54,
      "outputs": [
        {
          "output_type": "display_data",
          "data": {
            "image/png": "[encoded data removed]",
            "text/plain": [
              "<Figure size 1440x576 with 2 Axes>"
            ]
          },
          "metadata": {
            "tags": [],
            "needs_background": "light"
          }
        }
      ]
    },
    {
      "cell_type": "code",
      "metadata": {
        "id": "RoZaTWH0GdWN"
      },
      "source": [
        "class Model2(nn.Module):\n",
        "\n",
        "    def __init__(self,\n",
        "                 image_channels,\n",
        "                 num_classes):\n",
        "        \"\"\"\n",
        "            Is called when model is initialized.\n",
        "            Args:\n",
        "\n",
        "                image_channels. Number of color channels in image (3)\n",
        "                num_classes: Number of classes we want to predict (10)\n",
        "        \"\"\"\n",
        "\n",
        "\n",
        "\n",
        "        super().__init__()\n",
        "        # TODO: Implement this function (Task  2a)\n",
        "\n",
        "        self.num_classes = num_classes\n",
        "        # Define the convolutional layers\n",
        "        self.feature_extractor = nn.Sequential( # The output of feature_extractor_1 will be [batch_size, num_filters, 16, 16]            #Layer1\n",
        "            #Layer 1\n",
        "            nn.Conv2d(\n",
        "                in_channels=3,\n",
        "                out_channels=16,\n",
        "                kernel_size=3,\n",
        "                stride=1,\n",
        "                padding=1\n",
        "            ),\n",
        "            nn.ReLU(),\n",
        "            nn.Conv2d(\n",
        "                in_channels=16,\n",
        "                out_channels=32,\n",
        "                kernel_size=3,\n",
        "                stride=1,\n",
        "                padding=1\n",
        "            ),\n",
        "            nn.ReLU(),\n",
        "            nn.MaxPool2d(kernel_size=2,stride=2),\n",
        "            nn.Dropout(0.2),\n",
        "            nn.BatchNorm2d(32),\n",
        "            #Layer 2\n",
        "            nn.Conv2d(\n",
        "                in_channels=32,\n",
        "                out_channels=64,\n",
        "                kernel_size=3,\n",
        "                stride=1,\n",
        "                padding=1\n",
        "            ),\n",
        "            nn.ReLU(),\n",
        "            nn.MaxPool2d(kernel_size=2,stride=2),\n",
        "            nn.Dropout(0.2),\n",
        "            nn.BatchNorm2d(64),\n",
        "            #Layer 3\n",
        "            nn.Conv2d(\n",
        "                in_channels=64,\n",
        "                out_channels=128,\n",
        "                kernel_size=3,\n",
        "                stride=1,\n",
        "                padding=1\n",
        "            ),\n",
        "            nn.ReLU(),\n",
        "            nn.MaxPool2d(kernel_size=2,stride=2),\n",
        "            nn.Dropout(0.2),\n",
        "            nn.BatchNorm2d(128),\n",
        "        )\n",
        "        \n",
        "        #Fully connected below\n",
        "        self.fc = self.classifier = nn.Sequential(\n",
        "            nn.Linear(128*4*4, 64), #after 3 maxpools where each halves \"x-y\" dimensions\n",
        "            nn.SiLU(),\n",
        "            nn.BatchNorm1d(64),\n",
        "            nn.Linear(64, 10),\n",
        "        )\n",
        "\n",
        "        self.num_output_features = 32*32*32\n",
        "        # Initialize our last fully connected layer\n",
        "        # Inputs all extracted features from the convolutional layers\n",
        "        # Outputs num_classes predictions, 1 for each class.\n",
        "        # There is no need for softmax activation function, as this is\n",
        "        # included with nn.CrossEntropyLoss\n",
        "       \n",
        "\n",
        "    def forward(self, x):\n",
        "        \"\"\"\n",
        "        Performs a forward pass through the model\n",
        "        Args:\n",
        "            x: Input image, shape: [batch_size, 3, 32, 32]\n",
        "        \"\"\"\n",
        "        # TODO: Implement this function (Task  2a)\n",
        "        batch_size = x.shape[0]\n",
        "        out = x\n",
        "        expected_shape = (batch_size, self.num_classes)\n",
        "        out = self.feature_extractor(out)\n",
        "        out = out.view(batch_size, -1)\n",
        "        out = self.fc(out)  \n",
        "        \n",
        "        \n",
        "        assert out.shape == (batch_size, self.num_classes),\\\n",
        "            f\"Expected output of forward pass to be: {expected_shape}, but got: {out.shape}\"\n",
        "        return out\n"
      ],
      "execution_count": 33,
      "outputs": []
    },
    {
      "cell_type": "code",
      "metadata": {
        "colab": {
          "base_uri": "https://localhost:8080/"
        },
        "id": "jc0cMMpAGoGw",
        "outputId": "efd92187-cd66-444c-e736-3e2c1736d0f5"
      },
      "source": [
        "epochs = 10\n",
        "batch_size = 64\n",
        "learning_rate = 5e-2 # Should be 5e-5 for LeNet\n",
        "early_stop_count = 7\n",
        "dataloaders = load_cifar10(batch_size)\n",
        "model_2 = Model2(image_channels=3, num_classes=10)\n",
        "trainer_2 = Trainer(\n",
        "    batch_size,\n",
        "    learning_rate,\n",
        "    early_stop_count,\n",
        "    epochs,\n",
        "    model_2,\n",
        "    dataloaders,\n",
        ")\n",
        "trainer_2.train()"
      ],
      "execution_count": 34,
      "outputs": [
        {
          "output_type": "stream",
          "text": [
            "Files already downloaded and verified\n",
            "Files already downloaded and verified\n"
          ],
          "name": "stdout"
        },
        {
          "output_type": "stream",
          "text": [
            "\n",
            "  0%|          | 0/10 [00:00<?, ?it/s]\u001b[A"
          ],
          "name": "stderr"
        },
        {
          "output_type": "stream",
          "text": [
            "Model2(\n",
            "  (feature_extractor): Sequential(\n",
            "    (0): Conv2d(3, 16, kernel_size=(3, 3), stride=(1, 1), padding=(1, 1))\n",
            "    (1): ReLU()\n",
            "    (2): Conv2d(16, 32, kernel_size=(3, 3), stride=(1, 1), padding=(1, 1))\n",
            "    (3): ReLU()\n",
            "    (4): MaxPool2d(kernel_size=2, stride=2, padding=0, dilation=1, ceil_mode=False)\n",
            "    (5): Dropout(p=0.2, inplace=False)\n",
            "    (6): BatchNorm2d(32, eps=1e-05, momentum=0.1, affine=True, track_running_stats=True)\n",
            "    (7): Conv2d(32, 64, kernel_size=(3, 3), stride=(1, 1), padding=(1, 1))\n",
            "    (8): ReLU()\n",
            "    (9): MaxPool2d(kernel_size=2, stride=2, padding=0, dilation=1, ceil_mode=False)\n",
            "    (10): Dropout(p=0.2, inplace=False)\n",
            "    (11): BatchNorm2d(64, eps=1e-05, momentum=0.1, affine=True, track_running_stats=True)\n",
            "    (12): Conv2d(64, 128, kernel_size=(3, 3), stride=(1, 1), padding=(1, 1))\n",
            "    (13): ReLU()\n",
            "    (14): MaxPool2d(kernel_size=2, stride=2, padding=0, dilation=1, ceil_mode=False)\n",
            "    (15): Dropout(p=0.2, inplace=False)\n",
            "    (16): BatchNorm2d(128, eps=1e-05, momentum=0.1, affine=True, track_running_stats=True)\n",
            "  )\n",
            "  (fc): Sequential(\n",
            "    (0): Linear(in_features=2048, out_features=64, bias=True)\n",
            "    (1): SiLU()\n",
            "    (2): BatchNorm1d(64, eps=1e-05, momentum=0.1, affine=True, track_running_stats=True)\n",
            "    (3): Linear(in_features=64, out_features=10, bias=True)\n",
            "  )\n",
            "  (classifier): Sequential(\n",
            "    (0): Linear(in_features=2048, out_features=64, bias=True)\n",
            "    (1): SiLU()\n",
            "    (2): BatchNorm1d(64, eps=1e-05, momentum=0.1, affine=True, track_running_stats=True)\n",
            "    (3): Linear(in_features=64, out_features=10, bias=True)\n",
            "  )\n",
            ")\n",
            "Epoch: 0, Batches per seconds: 49.68, Global step:    351, Validation Loss: 1.32, Validation Accuracy: 0.519\n"
          ],
          "name": "stdout"
        },
        {
          "output_type": "stream",
          "text": [
            "\n",
            " 10%|█         | 1/10 [00:14<02:06, 14.03s/it]\u001b[A"
          ],
          "name": "stderr"
        },
        {
          "output_type": "stream",
          "text": [
            "Epoch: 0, Batches per seconds: 50.22, Global step:    702, Validation Loss: 1.12, Validation Accuracy: 0.596\n",
            "Epoch: 1, Batches per seconds: 50.09, Global step:   1053, Validation Loss: 1.04, Validation Accuracy: 0.631\n"
          ],
          "name": "stdout"
        },
        {
          "output_type": "stream",
          "text": [
            "\n",
            " 20%|██        | 2/10 [00:28<01:52, 14.05s/it]\u001b[A"
          ],
          "name": "stderr"
        },
        {
          "output_type": "stream",
          "text": [
            "Epoch: 1, Batches per seconds: 50.04, Global step:   1404, Validation Loss: 0.97, Validation Accuracy: 0.658\n",
            "Epoch: 2, Batches per seconds: 49.86, Global step:   1755, Validation Loss: 0.88, Validation Accuracy: 0.693\n"
          ],
          "name": "stdout"
        },
        {
          "output_type": "stream",
          "text": [
            "\n",
            " 30%|███       | 3/10 [00:42<01:38, 14.11s/it]\u001b[A"
          ],
          "name": "stderr"
        },
        {
          "output_type": "stream",
          "text": [
            "Epoch: 2, Batches per seconds: 49.80, Global step:   2106, Validation Loss: 0.85, Validation Accuracy: 0.703\n",
            "Epoch: 3, Batches per seconds: 49.74, Global step:   2457, Validation Loss: 0.80, Validation Accuracy: 0.723\n"
          ],
          "name": "stdout"
        },
        {
          "output_type": "stream",
          "text": [
            "\n",
            " 40%|████      | 4/10 [00:56<01:24, 14.05s/it]\u001b[A"
          ],
          "name": "stderr"
        },
        {
          "output_type": "stream",
          "text": [
            "Epoch: 3, Batches per seconds: 49.98, Global step:   2808, Validation Loss: 0.76, Validation Accuracy: 0.732\n",
            "Epoch: 4, Batches per seconds: 49.78, Global step:   3159, Validation Loss: 0.82, Validation Accuracy: 0.709\n"
          ],
          "name": "stdout"
        },
        {
          "output_type": "stream",
          "text": [
            "\n",
            " 50%|█████     | 5/10 [01:10<01:10, 14.10s/it]\u001b[A"
          ],
          "name": "stderr"
        },
        {
          "output_type": "stream",
          "text": [
            "Epoch: 4, Batches per seconds: 49.86, Global step:   3510, Validation Loss: 0.78, Validation Accuracy: 0.731\n",
            "Epoch: 5, Batches per seconds: 49.68, Global step:   3861, Validation Loss: 0.76, Validation Accuracy: 0.740\n"
          ],
          "name": "stdout"
        },
        {
          "output_type": "stream",
          "text": [
            "\n",
            " 60%|██████    | 6/10 [01:24<00:56, 14.12s/it]\u001b[A"
          ],
          "name": "stderr"
        },
        {
          "output_type": "stream",
          "text": [
            "Epoch: 5, Batches per seconds: 49.84, Global step:   4212, Validation Loss: 0.69, Validation Accuracy: 0.756\n",
            "Epoch: 6, Batches per seconds: 49.82, Global step:   4563, Validation Loss: 0.68, Validation Accuracy: 0.768\n"
          ],
          "name": "stdout"
        },
        {
          "output_type": "stream",
          "text": [
            "\n",
            " 70%|███████   | 7/10 [01:38<00:42, 14.05s/it]\u001b[A"
          ],
          "name": "stderr"
        },
        {
          "output_type": "stream",
          "text": [
            "Epoch: 6, Batches per seconds: 49.93, Global step:   4914, Validation Loss: 0.78, Validation Accuracy: 0.736\n",
            "Epoch: 7, Batches per seconds: 49.90, Global step:   5265, Validation Loss: 0.90, Validation Accuracy: 0.744\n"
          ],
          "name": "stdout"
        },
        {
          "output_type": "stream",
          "text": [
            "\n",
            " 80%|████████  | 8/10 [01:52<00:27, 13.98s/it]\u001b[A"
          ],
          "name": "stderr"
        },
        {
          "output_type": "stream",
          "text": [
            "Epoch: 7, Batches per seconds: 50.05, Global step:   5616, Validation Loss: 0.67, Validation Accuracy: 0.771\n",
            "Epoch: 8, Batches per seconds: 49.99, Global step:   5967, Validation Loss: 0.65, Validation Accuracy: 0.775\n"
          ],
          "name": "stdout"
        },
        {
          "output_type": "stream",
          "text": [
            "\n",
            " 90%|█████████ | 9/10 [02:06<00:14, 14.08s/it]\u001b[A"
          ],
          "name": "stderr"
        },
        {
          "output_type": "stream",
          "text": [
            "Epoch: 8, Batches per seconds: 49.94, Global step:   6318, Validation Loss: 0.70, Validation Accuracy: 0.758\n",
            "Epoch: 9, Batches per seconds: 49.87, Global step:   6669, Validation Loss: 0.70, Validation Accuracy: 0.769\n",
            "Epoch: 9, Batches per seconds: 49.90, Global step:   7020, Validation Loss: 0.67, Validation Accuracy: 0.767\n"
          ],
          "name": "stdout"
        },
        {
          "output_type": "stream",
          "text": [
            "\n",
            "100%|██████████| 10/10 [02:20<00:00, 14.09s/it]\n"
          ],
          "name": "stderr"
        }
      ]
    },
    {
      "cell_type": "code",
      "metadata": {
        "id": "_TKGxtf6XBwa"
      },
      "source": [
        ""
      ],
      "execution_count": null,
      "outputs": []
    },
    {
      "cell_type": "code",
      "metadata": {
        "colab": {
          "base_uri": "https://localhost:8080/"
        },
        "id": "c9ytSTzLHB_R",
        "outputId": "0c6f6af8-ac2b-4824-a977-e81358bc6b57"
      },
      "source": [
        "trainer_2.load_best_model()\n",
        "test_set = trainer.dataloader_test\n",
        "val_set = trainer.dataloader_val\n",
        "train_set = trainer.dataloader_train\n",
        "\n",
        "#create_plots(trainer, \"task2_1\")\n",
        "print(compute_loss_and_accuracy(dataloader=test_set,model = model, loss_criterion=nn.CrossEntropyLoss()))\n",
        "print(compute_loss_and_accuracy(dataloader=val_set,model = model, loss_criterion=nn.CrossEntropyLoss()))\n",
        "print(compute_loss_and_accuracy(dataloader=train_set,model = model, loss_criterion=nn.CrossEntropyLoss()))"
      ],
      "execution_count": 36,
      "outputs": [
        {
          "output_type": "stream",
          "text": [
            "(tensor(0.7084, device='cuda:0'), 0.7686)\n",
            "(tensor(0.7149, device='cuda:0'), 0.7638)\n",
            "(tensor(0.4808, device='cuda:0'), 0.8330592105263158)\n"
          ],
          "name": "stdout"
        }
      ]
    },
    {
      "cell_type": "code",
      "metadata": {
        "id": "8viybKXJWURQ"
      },
      "source": [
        ""
      ],
      "execution_count": null,
      "outputs": []
    },
    {
      "cell_type": "markdown",
      "metadata": {
        "id": "YDld7jkNWWHc"
      },
      "source": [
        "## Task 3 - multiple plots describing the best change\n",
        "\n"
      ]
    },
    {
      "cell_type": "code",
      "metadata": {
        "id": "cgYIqd43Wd6p"
      },
      "source": [
        "class Model3c_1(nn.Module):\n",
        "\n",
        "    def __init__(self,\n",
        "                 image_channels,\n",
        "                 num_classes):\n",
        "        \"\"\"\n",
        "            Is called when model is initialized.\n",
        "            Args:\n",
        "\n",
        "                image_channels. Number of color channels in image (3)\n",
        "                num_classes: Number of classes we want to predict (10)\n",
        "        \"\"\"\n",
        "\n",
        "\n",
        "\n",
        "        super().__init__()\n",
        "        # TODO: Implement this function (Task  2a)\n",
        "\n",
        "        self.num_classes = num_classes\n",
        "        # Define the convolutional layers\n",
        "        self.feature_extractor = nn.Sequential( # The output of feature_extractor_1 will be [batch_size, num_filters, 16, 16]            #Layer1\n",
        "            #Layer 1\n",
        "            nn.Conv2d(\n",
        "                in_channels=3,\n",
        "                out_channels=16,\n",
        "                kernel_size=3,\n",
        "                stride=1,\n",
        "                padding=1\n",
        "            ),\n",
        "            nn.ReLU(),\n",
        "            nn.Conv2d(\n",
        "                in_channels=16,\n",
        "                out_channels=32,\n",
        "                kernel_size=3,\n",
        "                stride=1,\n",
        "                padding=1\n",
        "            ),\n",
        "            nn.ReLU(),\n",
        "            nn.MaxPool2d(kernel_size=2,stride=2),\n",
        "            nn.Dropout(0.2),\n",
        "            nn.BatchNorm2d(32),\n",
        "            #Layer 2\n",
        "            nn.Conv2d(\n",
        "                in_channels=32,\n",
        "                out_channels=64,\n",
        "                kernel_size=3,\n",
        "                stride=1,\n",
        "                padding=1\n",
        "            ),\n",
        "            nn.ReLU(),\n",
        "            nn.MaxPool2d(kernel_size=2,stride=2),\n",
        "            nn.Dropout(0.2),\n",
        "            nn.BatchNorm2d(64),\n",
        "            #Layer 3\n",
        "            nn.Conv2d(\n",
        "                in_channels=64,\n",
        "                out_channels=128,\n",
        "                kernel_size=3,\n",
        "                stride=1,\n",
        "                padding=1\n",
        "            ),\n",
        "            nn.ReLU(),\n",
        "            nn.MaxPool2d(kernel_size=2,stride=2),\n",
        "            nn.Dropout(0.2),\n",
        "            nn.BatchNorm2d(128),\n",
        "        )\n",
        "        \n",
        "        #Fully connected below\n",
        "        self.fc = self.classifier = nn.Sequential(\n",
        "            nn.Linear(128*4*4, 64), #after 3 maxpools where each halves \"x-y\" dimensions\n",
        "            nn.ReLU(),\n",
        "            nn.BatchNorm1d(64),\n",
        "            nn.Linear(64, 10),\n",
        "        )\n",
        "\n",
        "        self.num_output_features = 32*32*32\n",
        "        # Initialize our last fully connected layer\n",
        "        # Inputs all extracted features from the convolutional layers\n",
        "        # Outputs num_classes predictions, 1 for each class.\n",
        "        # There is no need for softmax activation function, as this is\n",
        "        # included with nn.CrossEntropyLoss\n",
        "       \n",
        "\n",
        "    def forward(self, x):\n",
        "        \"\"\"\n",
        "        Performs a forward pass through the model\n",
        "        Args:\n",
        "            x: Input image, shape: [batch_size, 3, 32, 32]\n",
        "        \"\"\"\n",
        "        # TODO: Implement this function (Task  2a)\n",
        "        batch_size = x.shape[0]\n",
        "        out = x\n",
        "        expected_shape = (batch_size, self.num_classes)\n",
        "        out = self.feature_extractor(out)\n",
        "        out = out.view(batch_size, -1)\n",
        "        out = self.fc(out)  \n",
        "        \n",
        "        \n",
        "        assert out.shape == (batch_size, self.num_classes),\\\n",
        "            f\"Expected output of forward pass to be: {expected_shape}, but got: {out.shape}\"\n",
        "        return out\n"
      ],
      "execution_count": 45,
      "outputs": []
    },
    {
      "cell_type": "code",
      "metadata": {
        "id": "ZpSta6_RWsRc"
      },
      "source": [
        "class Model3c_2(nn.Module):\n",
        "\n",
        "    def __init__(self,\n",
        "                 image_channels,\n",
        "                 num_classes):\n",
        "        \"\"\"\n",
        "            Is called when model is initialized.\n",
        "            Args:\n",
        "\n",
        "                image_channels. Number of color channels in image (3)\n",
        "                num_classes: Number of classes we want to predict (10)\n",
        "        \"\"\"\n",
        "\n",
        "\n",
        "\n",
        "        super().__init__()\n",
        "        # TODO: Implement this function (Task  2a)\n",
        "\n",
        "        self.num_classes = num_classes\n",
        "        # Define the convolutional layers\n",
        "        self.feature_extractor = nn.Sequential( # The output of feature_extractor_1 will be [batch_size, num_filters, 16, 16]            #Layer1\n",
        "            #Layer 1\n",
        "            nn.Conv2d(\n",
        "                in_channels=3,\n",
        "                out_channels=16,\n",
        "                kernel_size=3,\n",
        "                stride=1,\n",
        "                padding=1\n",
        "            ),\n",
        "            nn.ReLU(),\n",
        "            nn.Conv2d(\n",
        "                in_channels=16,\n",
        "                out_channels=32,\n",
        "                kernel_size=3,\n",
        "                stride=1,\n",
        "                padding=1\n",
        "            ),\n",
        "            nn.ReLU(),\n",
        "            nn.MaxPool2d(kernel_size=2,stride=2),\n",
        "            #nn.Dropout(0.2),\n",
        "            nn.BatchNorm2d(32),\n",
        "            #Layer 2\n",
        "            nn.Conv2d(\n",
        "                in_channels=32,\n",
        "                out_channels=64,\n",
        "                kernel_size=3,\n",
        "                stride=1,\n",
        "                padding=1\n",
        "            ),\n",
        "            nn.ReLU(),\n",
        "            nn.MaxPool2d(kernel_size=2,stride=2),\n",
        "            #nn.Dropout(0.2),\n",
        "            nn.BatchNorm2d(64),\n",
        "            #Layer 3\n",
        "            nn.Conv2d(\n",
        "                in_channels=64,\n",
        "                out_channels=128,\n",
        "                kernel_size=3,\n",
        "                stride=1,\n",
        "                padding=1\n",
        "            ),\n",
        "            nn.ReLU(),\n",
        "            nn.MaxPool2d(kernel_size=2,stride=2),\n",
        "            #nn.Dropout(0.2),\n",
        "            nn.BatchNorm2d(128),\n",
        "        )\n",
        "        \n",
        "        #Fully connected below\n",
        "        self.fc = self.classifier = nn.Sequential(\n",
        "            nn.Linear(128*4*4, 64), #after 3 maxpools where each halves \"x-y\" dimensions\n",
        "            nn.ReLU(),\n",
        "            nn.BatchNorm1d(64),\n",
        "            nn.Linear(64, 10),\n",
        "        )\n",
        "\n",
        "        self.num_output_features = 32*32*32\n",
        "        # Initialize our last fully connected layer\n",
        "        # Inputs all extracted features from the convolutional layers\n",
        "        # Outputs num_classes predictions, 1 for each class.\n",
        "        # There is no need for softmax activation function, as this is\n",
        "        # included with nn.CrossEntropyLoss\n",
        "       \n",
        "\n",
        "    def forward(self, x):\n",
        "        \"\"\"\n",
        "        Performs a forward pass through the model\n",
        "        Args:\n",
        "            x: Input image, shape: [batch_size, 3, 32, 32]\n",
        "        \"\"\"\n",
        "        # TODO: Implement this function (Task  2a)\n",
        "        batch_size = x.shape[0]\n",
        "        out = x\n",
        "        expected_shape = (batch_size, self.num_classes)\n",
        "        out = self.feature_extractor(out)\n",
        "        out = out.view(batch_size, -1)\n",
        "        out = self.fc(out)  \n",
        "        \n",
        "        \n",
        "        assert out.shape == (batch_size, self.num_classes),\\\n",
        "            f\"Expected output of forward pass to be: {expected_shape}, but got: {out.shape}\"\n",
        "        return out\n"
      ],
      "execution_count": 46,
      "outputs": []
    },
    {
      "cell_type": "code",
      "metadata": {
        "colab": {
          "base_uri": "https://localhost:8080/"
        },
        "id": "fuQKoZjPXC78",
        "outputId": "8db9c2f2-2e28-4cfb-fe22-44efad769584"
      },
      "source": [
        "epochs = 10\n",
        "batch_size = 64\n",
        "learning_rate = 3e-2 # Should be 5e-5 for LeNet\n",
        "early_stop_count = 7\n",
        "dataloaders = load_cifar10(batch_size)\n",
        "model_3c1 = Model3c_1(image_channels=3, num_classes=10)\n",
        "trainer_3c1 = Trainer(\n",
        "    batch_size,\n",
        "    learning_rate,\n",
        "    early_stop_count,\n",
        "    epochs,\n",
        "    model_3c1,\n",
        "    dataloaders,\n",
        ")\n",
        "trainer_3c1.train()"
      ],
      "execution_count": 50,
      "outputs": [
        {
          "output_type": "stream",
          "text": [
            "Files already downloaded and verified\n",
            "Files already downloaded and verified\n"
          ],
          "name": "stdout"
        },
        {
          "output_type": "stream",
          "text": [
            "\n",
            "\n",
            "\n",
            "  0%|          | 0/10 [00:00<?, ?it/s]\u001b[A\u001b[A\u001b[A"
          ],
          "name": "stderr"
        },
        {
          "output_type": "stream",
          "text": [
            "Model3c_1(\n",
            "  (feature_extractor): Sequential(\n",
            "    (0): Conv2d(3, 16, kernel_size=(3, 3), stride=(1, 1), padding=(1, 1))\n",
            "    (1): ReLU()\n",
            "    (2): Conv2d(16, 32, kernel_size=(3, 3), stride=(1, 1), padding=(1, 1))\n",
            "    (3): ReLU()\n",
            "    (4): MaxPool2d(kernel_size=2, stride=2, padding=0, dilation=1, ceil_mode=False)\n",
            "    (5): Dropout(p=0.2, inplace=False)\n",
            "    (6): BatchNorm2d(32, eps=1e-05, momentum=0.1, affine=True, track_running_stats=True)\n",
            "    (7): Conv2d(32, 64, kernel_size=(3, 3), stride=(1, 1), padding=(1, 1))\n",
            "    (8): ReLU()\n",
            "    (9): MaxPool2d(kernel_size=2, stride=2, padding=0, dilation=1, ceil_mode=False)\n",
            "    (10): Dropout(p=0.2, inplace=False)\n",
            "    (11): BatchNorm2d(64, eps=1e-05, momentum=0.1, affine=True, track_running_stats=True)\n",
            "    (12): Conv2d(64, 128, kernel_size=(3, 3), stride=(1, 1), padding=(1, 1))\n",
            "    (13): ReLU()\n",
            "    (14): MaxPool2d(kernel_size=2, stride=2, padding=0, dilation=1, ceil_mode=False)\n",
            "    (15): Dropout(p=0.2, inplace=False)\n",
            "    (16): BatchNorm2d(128, eps=1e-05, momentum=0.1, affine=True, track_running_stats=True)\n",
            "  )\n",
            "  (fc): Sequential(\n",
            "    (0): Linear(in_features=2048, out_features=64, bias=True)\n",
            "    (1): ReLU()\n",
            "    (2): BatchNorm1d(64, eps=1e-05, momentum=0.1, affine=True, track_running_stats=True)\n",
            "    (3): Linear(in_features=64, out_features=10, bias=True)\n",
            "  )\n",
            "  (classifier): Sequential(\n",
            "    (0): Linear(in_features=2048, out_features=64, bias=True)\n",
            "    (1): ReLU()\n",
            "    (2): BatchNorm1d(64, eps=1e-05, momentum=0.1, affine=True, track_running_stats=True)\n",
            "    (3): Linear(in_features=64, out_features=10, bias=True)\n",
            "  )\n",
            ")\n",
            "Epoch: 0, Batches per seconds: 48.70, Global step:    351, Validation Loss: 1.42, Validation Accuracy: 0.478\n"
          ],
          "name": "stdout"
        },
        {
          "output_type": "stream",
          "text": [
            "\n",
            "\n",
            "\n",
            " 10%|█         | 1/10 [00:14<02:07, 14.18s/it]\u001b[A\u001b[A\u001b[A"
          ],
          "name": "stderr"
        },
        {
          "output_type": "stream",
          "text": [
            "Epoch: 0, Batches per seconds: 49.71, Global step:    702, Validation Loss: 1.04, Validation Accuracy: 0.626\n",
            "Epoch: 1, Batches per seconds: 49.59, Global step:   1053, Validation Loss: 0.92, Validation Accuracy: 0.682\n"
          ],
          "name": "stdout"
        },
        {
          "output_type": "stream",
          "text": [
            "\n",
            "\n",
            "\n",
            " 20%|██        | 2/10 [00:28<01:53, 14.21s/it]\u001b[A\u001b[A\u001b[A"
          ],
          "name": "stderr"
        },
        {
          "output_type": "stream",
          "text": [
            "Epoch: 1, Batches per seconds: 49.48, Global step:   1404, Validation Loss: 0.87, Validation Accuracy: 0.701\n",
            "Epoch: 2, Batches per seconds: 49.30, Global step:   1755, Validation Loss: 0.95, Validation Accuracy: 0.670\n"
          ],
          "name": "stdout"
        },
        {
          "output_type": "stream",
          "text": [
            "\n",
            "\n",
            "\n",
            " 30%|███       | 3/10 [00:42<01:39, 14.16s/it]\u001b[A\u001b[A\u001b[A"
          ],
          "name": "stderr"
        },
        {
          "output_type": "stream",
          "text": [
            "Epoch: 2, Batches per seconds: 49.63, Global step:   2106, Validation Loss: 0.82, Validation Accuracy: 0.712\n",
            "Epoch: 3, Batches per seconds: 49.63, Global step:   2457, Validation Loss: 0.79, Validation Accuracy: 0.730\n"
          ],
          "name": "stdout"
        },
        {
          "output_type": "stream",
          "text": [
            "\n",
            "\n",
            "\n",
            " 40%|████      | 4/10 [00:56<01:24, 14.15s/it]\u001b[A\u001b[A\u001b[A"
          ],
          "name": "stderr"
        },
        {
          "output_type": "stream",
          "text": [
            "Epoch: 3, Batches per seconds: 49.68, Global step:   2808, Validation Loss: 0.77, Validation Accuracy: 0.729\n",
            "Epoch: 4, Batches per seconds: 49.55, Global step:   3159, Validation Loss: 0.67, Validation Accuracy: 0.763\n"
          ],
          "name": "stdout"
        },
        {
          "output_type": "stream",
          "text": [
            "\n",
            "\n",
            "\n",
            " 50%|█████     | 5/10 [01:10<01:10, 14.14s/it]\u001b[A\u001b[A\u001b[A"
          ],
          "name": "stderr"
        },
        {
          "output_type": "stream",
          "text": [
            "Epoch: 4, Batches per seconds: 49.69, Global step:   3510, Validation Loss: 0.69, Validation Accuracy: 0.765\n",
            "Epoch: 5, Batches per seconds: 49.59, Global step:   3861, Validation Loss: 0.71, Validation Accuracy: 0.761\n"
          ],
          "name": "stdout"
        },
        {
          "output_type": "stream",
          "text": [
            "\n",
            "\n",
            "\n",
            " 60%|██████    | 6/10 [01:24<00:56, 14.15s/it]\u001b[A\u001b[A\u001b[A"
          ],
          "name": "stderr"
        },
        {
          "output_type": "stream",
          "text": [
            "Epoch: 5, Batches per seconds: 49.67, Global step:   4212, Validation Loss: 0.71, Validation Accuracy: 0.753\n",
            "Epoch: 6, Batches per seconds: 49.62, Global step:   4563, Validation Loss: 0.64, Validation Accuracy: 0.775\n"
          ],
          "name": "stdout"
        },
        {
          "output_type": "stream",
          "text": [
            "\n",
            "\n",
            "\n",
            " 70%|███████   | 7/10 [01:38<00:42, 14.11s/it]\u001b[A\u001b[A\u001b[A"
          ],
          "name": "stderr"
        },
        {
          "output_type": "stream",
          "text": [
            "Epoch: 6, Batches per seconds: 49.74, Global step:   4914, Validation Loss: 0.67, Validation Accuracy: 0.762\n",
            "Epoch: 7, Batches per seconds: 49.66, Global step:   5265, Validation Loss: 0.64, Validation Accuracy: 0.779\n"
          ],
          "name": "stdout"
        },
        {
          "output_type": "stream",
          "text": [
            "\n",
            "\n",
            "\n",
            " 80%|████████  | 8/10 [01:53<00:28, 14.12s/it]\u001b[A\u001b[A\u001b[A"
          ],
          "name": "stderr"
        },
        {
          "output_type": "stream",
          "text": [
            "Epoch: 7, Batches per seconds: 49.74, Global step:   5616, Validation Loss: 0.59, Validation Accuracy: 0.799\n",
            "Epoch: 8, Batches per seconds: 49.67, Global step:   5967, Validation Loss: 0.61, Validation Accuracy: 0.788\n"
          ],
          "name": "stdout"
        },
        {
          "output_type": "stream",
          "text": [
            "\n",
            "\n",
            "\n",
            " 90%|█████████ | 9/10 [02:07<00:14, 14.14s/it]\u001b[A\u001b[A\u001b[A"
          ],
          "name": "stderr"
        },
        {
          "output_type": "stream",
          "text": [
            "Epoch: 8, Batches per seconds: 49.71, Global step:   6318, Validation Loss: 0.60, Validation Accuracy: 0.796\n",
            "Epoch: 9, Batches per seconds: 49.65, Global step:   6669, Validation Loss: 0.62, Validation Accuracy: 0.789\n"
          ],
          "name": "stdout"
        },
        {
          "output_type": "stream",
          "text": [
            "\n",
            "\n",
            "\n"
          ],
          "name": "stderr"
        },
        {
          "output_type": "stream",
          "text": [
            "Epoch: 9, Batches per seconds: 49.72, Global step:   7020, Validation Loss: 0.62, Validation Accuracy: 0.795\n"
          ],
          "name": "stdout"
        },
        {
          "output_type": "stream",
          "text": [
            "100%|██████████| 10/10 [02:21<00:00, 14.14s/it]\n"
          ],
          "name": "stderr"
        }
      ]
    },
    {
      "cell_type": "code",
      "metadata": {
        "colab": {
          "base_uri": "https://localhost:8080/"
        },
        "id": "2kRAySw6XECQ",
        "outputId": "1dbb8e41-9869-409b-8eca-42be10064810"
      },
      "source": [
        "epochs = 10\n",
        "batch_size = 64\n",
        "learning_rate = 3e-2 # Should be 5e-5 for LeNet\n",
        "early_stop_count = 7\n",
        "dataloaders = load_cifar10(batch_size)\n",
        "model_3c2 = Model3c_2(image_channels=3, num_classes=10)\n",
        "trainer_3c2 = Trainer(\n",
        "    batch_size,\n",
        "    learning_rate,\n",
        "    early_stop_count,\n",
        "    epochs,\n",
        "    model_3c2,\n",
        "    dataloaders,\n",
        ")\n",
        "trainer_3c2.train()"
      ],
      "execution_count": 51,
      "outputs": [
        {
          "output_type": "stream",
          "text": [
            "Files already downloaded and verified\n",
            "Files already downloaded and verified\n"
          ],
          "name": "stdout"
        },
        {
          "output_type": "stream",
          "text": [
            "\n",
            "\n",
            "\n",
            "  0%|          | 0/10 [00:00<?, ?it/s]\u001b[A\u001b[A\u001b[A"
          ],
          "name": "stderr"
        },
        {
          "output_type": "stream",
          "text": [
            "Model3c_2(\n",
            "  (feature_extractor): Sequential(\n",
            "    (0): Conv2d(3, 16, kernel_size=(3, 3), stride=(1, 1), padding=(1, 1))\n",
            "    (1): ReLU()\n",
            "    (2): Conv2d(16, 32, kernel_size=(3, 3), stride=(1, 1), padding=(1, 1))\n",
            "    (3): ReLU()\n",
            "    (4): MaxPool2d(kernel_size=2, stride=2, padding=0, dilation=1, ceil_mode=False)\n",
            "    (5): BatchNorm2d(32, eps=1e-05, momentum=0.1, affine=True, track_running_stats=True)\n",
            "    (6): Conv2d(32, 64, kernel_size=(3, 3), stride=(1, 1), padding=(1, 1))\n",
            "    (7): ReLU()\n",
            "    (8): MaxPool2d(kernel_size=2, stride=2, padding=0, dilation=1, ceil_mode=False)\n",
            "    (9): BatchNorm2d(64, eps=1e-05, momentum=0.1, affine=True, track_running_stats=True)\n",
            "    (10): Conv2d(64, 128, kernel_size=(3, 3), stride=(1, 1), padding=(1, 1))\n",
            "    (11): ReLU()\n",
            "    (12): MaxPool2d(kernel_size=2, stride=2, padding=0, dilation=1, ceil_mode=False)\n",
            "    (13): BatchNorm2d(128, eps=1e-05, momentum=0.1, affine=True, track_running_stats=True)\n",
            "  )\n",
            "  (fc): Sequential(\n",
            "    (0): Linear(in_features=2048, out_features=64, bias=True)\n",
            "    (1): ReLU()\n",
            "    (2): BatchNorm1d(64, eps=1e-05, momentum=0.1, affine=True, track_running_stats=True)\n",
            "    (3): Linear(in_features=64, out_features=10, bias=True)\n",
            "  )\n",
            "  (classifier): Sequential(\n",
            "    (0): Linear(in_features=2048, out_features=64, bias=True)\n",
            "    (1): ReLU()\n",
            "    (2): BatchNorm1d(64, eps=1e-05, momentum=0.1, affine=True, track_running_stats=True)\n",
            "    (3): Linear(in_features=64, out_features=10, bias=True)\n",
            "  )\n",
            ")\n",
            "Epoch: 0, Batches per seconds: 48.79, Global step:    351, Validation Loss: 1.22, Validation Accuracy: 0.565\n"
          ],
          "name": "stdout"
        },
        {
          "output_type": "stream",
          "text": [
            "\n",
            "\n",
            "\n",
            " 10%|█         | 1/10 [00:14<02:06, 14.08s/it]\u001b[A\u001b[A\u001b[A"
          ],
          "name": "stderr"
        },
        {
          "output_type": "stream",
          "text": [
            "Epoch: 0, Batches per seconds: 50.07, Global step:    702, Validation Loss: 1.11, Validation Accuracy: 0.612\n",
            "Epoch: 1, Batches per seconds: 49.95, Global step:   1053, Validation Loss: 0.96, Validation Accuracy: 0.673\n"
          ],
          "name": "stdout"
        },
        {
          "output_type": "stream",
          "text": [
            "\n",
            "\n",
            "\n",
            " 20%|██        | 2/10 [00:28<01:52, 14.06s/it]\u001b[A\u001b[A\u001b[A"
          ],
          "name": "stderr"
        },
        {
          "output_type": "stream",
          "text": [
            "Epoch: 1, Batches per seconds: 50.10, Global step:   1404, Validation Loss: 0.79, Validation Accuracy: 0.724\n",
            "Epoch: 2, Batches per seconds: 49.40, Global step:   1755, Validation Loss: 0.81, Validation Accuracy: 0.720\n"
          ],
          "name": "stdout"
        },
        {
          "output_type": "stream",
          "text": [
            "\n",
            "\n",
            "\n",
            " 30%|███       | 3/10 [00:42<01:38, 14.13s/it]\u001b[A\u001b[A\u001b[A"
          ],
          "name": "stderr"
        },
        {
          "output_type": "stream",
          "text": [
            "Epoch: 2, Batches per seconds: 49.80, Global step:   2106, Validation Loss: 0.73, Validation Accuracy: 0.748\n",
            "Epoch: 3, Batches per seconds: 49.78, Global step:   2457, Validation Loss: 0.74, Validation Accuracy: 0.750\n"
          ],
          "name": "stdout"
        },
        {
          "output_type": "stream",
          "text": [
            "\n",
            "\n",
            "\n",
            " 40%|████      | 4/10 [00:56<01:24, 14.07s/it]\u001b[A\u001b[A\u001b[A"
          ],
          "name": "stderr"
        },
        {
          "output_type": "stream",
          "text": [
            "Epoch: 3, Batches per seconds: 49.96, Global step:   2808, Validation Loss: 0.69, Validation Accuracy: 0.763\n",
            "Epoch: 4, Batches per seconds: 49.73, Global step:   3159, Validation Loss: 0.71, Validation Accuracy: 0.766\n"
          ],
          "name": "stdout"
        },
        {
          "output_type": "stream",
          "text": [
            "\n",
            "\n",
            "\n",
            " 50%|█████     | 5/10 [01:10<01:10, 14.17s/it]\u001b[A\u001b[A\u001b[A"
          ],
          "name": "stderr"
        },
        {
          "output_type": "stream",
          "text": [
            "Epoch: 4, Batches per seconds: 49.72, Global step:   3510, Validation Loss: 0.72, Validation Accuracy: 0.759\n",
            "Epoch: 5, Batches per seconds: 49.62, Global step:   3861, Validation Loss: 0.73, Validation Accuracy: 0.763\n"
          ],
          "name": "stdout"
        },
        {
          "output_type": "stream",
          "text": [
            "\n",
            "\n",
            "\n",
            " 60%|██████    | 6/10 [01:24<00:56, 14.13s/it]\u001b[A\u001b[A\u001b[A"
          ],
          "name": "stderr"
        },
        {
          "output_type": "stream",
          "text": [
            "Epoch: 5, Batches per seconds: 49.77, Global step:   4212, Validation Loss: 0.76, Validation Accuracy: 0.757\n",
            "Epoch: 6, Batches per seconds: 49.75, Global step:   4563, Validation Loss: 0.80, Validation Accuracy: 0.750\n",
            "Epoch: 6, Batches per seconds: 49.86, Global step:   4914, Validation Loss: 0.76, Validation Accuracy: 0.764\n",
            "Early stop criteria met\n",
            "Early stopping.\n"
          ],
          "name": "stdout"
        }
      ]
    },
    {
      "cell_type": "code",
      "metadata": {
        "colab": {
          "base_uri": "https://localhost:8080/",
          "height": 442
        },
        "id": "VVrsquHoXh4r",
        "outputId": "503c8d9b-ed91-4371-c4a2-3f95c90385d1"
      },
      "source": [
        "import pathlib\n",
        "import matplotlib.pyplot as plt\n",
        "import utils\n",
        "\n",
        "\n",
        "plot_path = pathlib.Path(\"plots\")\n",
        "plot_path.mkdir(exist_ok=True)\n",
        "# Save plots and show them\n",
        "plt.figure(figsize=(20, 8))\n",
        "plt.subplot(1, 2, 1)\n",
        "plt.title(\"Cross Entropy Loss\")\n",
        "utils.plot_loss(trainer_3c1.train_history[\"loss\"], label=\"Training loss with dropout\", npoints_to_average=10)\n",
        "utils.plot_loss(trainer_3c1.validation_history[\"loss\"], label=\"Validation loss with dropout\")\n",
        "utils.plot_loss(trainer_3c2.train_history[\"loss\"], label=\"Training loss without dropout\", npoints_to_average=10)\n",
        "utils.plot_loss(trainer_3c2.validation_history[\"loss\"], label=\"Validation loss without dropout\")\n",
        "plt.legend()\n",
        "plt.subplot(1, 2, 2)\n",
        "plt.title(\"Accuracy\")\n",
        "utils.plot_loss(trainer_3c1.validation_history[\"accuracy\"], label=\"Validation Accuracy with dropout\")\n",
        "utils.plot_loss(trainer_3c2.validation_history[\"accuracy\"], label=\"Validation Accuracy without dropout\")\n",
        "\n",
        "plt.legend()\n",
        "plt.savefig(plot_path.joinpath(\"task3d.png\"))\n",
        "plt.show()"
      ],
      "execution_count": 52,
      "outputs": [
        {
          "output_type": "display_data",
          "data": {
            "image/png": "[encoded data removed]",
            "text/plain": [
              "<Figure size 1440x576 with 2 Axes>"
            ]
          },
          "metadata": {
            "tags": [],
            "needs_background": "light"
          }
        }
      ]
    }
  ]
}