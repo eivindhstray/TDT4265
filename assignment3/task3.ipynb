{
  "nbformat": 4,
  "nbformat_minor": 0,
  "metadata": {
    "colab": {
      "name": "task3.ipynb",
      "provenance": [],
      "collapsed_sections": [],
      "toc_visible": true
    },
    "kernelspec": {
      "name": "python3",
      "display_name": "Python 3"
    },
    "accelerator": "GPU"
  },
  "cells": [
    {
      "cell_type": "code",
      "metadata": {
        "id": "xfn9-mD0x3YI"
      },
      "source": [
        "import torch\n",
        "import torch.nn as nn\n",
        "from trainer import Trainer, compute_loss_and_accuracy\n",
        "from task2 import create_plots\n",
        "from dataloaders import load_cifar10"
      ],
      "execution_count": 4,
      "outputs": []
    },
    {
      "cell_type": "code",
      "metadata": {
        "id": "piYYuHM9xj3Y"
      },
      "source": [
        "class Model1(nn.Module):\n",
        "\n",
        "    def __init__(self,\n",
        "                 image_channels,\n",
        "                 num_classes):\n",
        "        \"\"\"\n",
        "            Is called when model is initialized.\n",
        "            Args:\n",
        "\n",
        "                image_channels. Number of color channels in image (3)\n",
        "                num_classes: Number of classes we want to predict (10)\n",
        "        \"\"\"\n",
        "\n",
        "\n",
        "\n",
        "        super().__init__()\n",
        "        # TODO: Implement this function (Task  2a)\n",
        "\n",
        "        self.num_classes = num_classes\n",
        "        # Define the convolutional layers\n",
        "        self.feature_extractor = nn.Sequential( # The output of feature_extractor_1 will be [batch_size, num_filters, 16, 16]            #Layer1\n",
        "            #Layer 1\n",
        "            nn.Conv2d(\n",
        "                in_channels=3,\n",
        "                out_channels=16,\n",
        "                kernel_size=3,\n",
        "                stride=1,\n",
        "                padding=1\n",
        "            ),\n",
        "            nn.ReLU(),\n",
        "            nn.Conv2d(\n",
        "                in_channels=16,\n",
        "                out_channels=32,\n",
        "                kernel_size=3,\n",
        "                stride=1,\n",
        "                padding=1\n",
        "            ),\n",
        "            nn.ReLU(),\n",
        "            nn.MaxPool2d(kernel_size=2,stride=2),\n",
        "            nn.Dropout(0.2),\n",
        "            nn.BatchNorm2d(32),\n",
        "            #Layer 2\n",
        "            nn.Conv2d(\n",
        "                in_channels=32,\n",
        "                out_channels=64,\n",
        "                kernel_size=3,\n",
        "                stride=1,\n",
        "                padding=1\n",
        "            ),\n",
        "            nn.ReLU(),\n",
        "            nn.MaxPool2d(kernel_size=2,stride=2),\n",
        "            nn.Dropout(0.2),\n",
        "            nn.BatchNorm2d(64),\n",
        "            #Layer 3\n",
        "            nn.Conv2d(\n",
        "                in_channels=64,\n",
        "                out_channels=128,\n",
        "                kernel_size=3,\n",
        "                stride=1,\n",
        "                padding=1\n",
        "            ),\n",
        "            nn.ReLU(),\n",
        "            nn.MaxPool2d(kernel_size=2,stride=2),\n",
        "            nn.Dropout(0.2),\n",
        "            nn.BatchNorm2d(128),\n",
        "            nn.Conv2d(\n",
        "                in_channels=128,\n",
        "                out_channels=256,\n",
        "                kernel_size=3,\n",
        "                stride=1,\n",
        "                padding=1\n",
        "            ),\n",
        "            nn.ReLU(),\n",
        "            nn.Dropout(0.3),\n",
        "            nn.BatchNorm2d(256),\n",
        "        )\n",
        "        \n",
        "        #Fully connected below\n",
        "        self.fc = nn.Sequential(\n",
        "            nn.Linear(256*4*4, 64), #after 3 maxpools where each halves \"x-y\" dimensions\n",
        "            nn.ReLU(),\n",
        "            nn.BatchNorm1d(64),\n",
        "            nn.Linear(64, 10),\n",
        "        )\n",
        "\n",
        "        self.num_output_features = 32*32*32\n",
        "        # Initialize our last fully connected layer\n",
        "        # Inputs all extracted features from the convolutional layers\n",
        "        # Outputs num_classes predictions, 1 for each class.\n",
        "        # There is no need for softmax activation function, as this is\n",
        "        # included with nn.CrossEntropyLoss\n",
        "       \n",
        "\n",
        "    def forward(self, x):\n",
        "        \"\"\"\n",
        "        Performs a forward pass through the model\n",
        "        Args:\n",
        "            x: Input image, shape: [batch_size, 3, 32, 32]\n",
        "        \"\"\"\n",
        "        # TODO: Implement this function (Task  2a)\n",
        "        batch_size = x.shape[0]\n",
        "        out = x\n",
        "        expected_shape = (batch_size, self.num_classes)\n",
        "        out = self.feature_extractor(out)\n",
        "        out = out.view(batch_size, -1)\n",
        "        out = self.fc(out)  \n",
        "        \n",
        "        \n",
        "        assert out.shape == (batch_size, self.num_classes),\\\n",
        "            f\"Expected output of forward pass to be: {expected_shape}, but got: {out.shape}\"\n",
        "        return out\n"
      ],
      "execution_count": 2,
      "outputs": []
    },
    {
      "cell_type": "code",
      "metadata": {
        "colab": {
          "base_uri": "https://localhost:8080/"
        },
        "id": "9vWOPlaEyACr",
        "outputId": "3fed5e21-2bb3-44e1-9cd9-68850aa1cf3b"
      },
      "source": [
        "epochs = 10\n",
        "batch_size = 64\n",
        "learning_rate = 3e-2 # Should be 5e-5 for LeNet\n",
        "early_stop_count = 10\n",
        "dataloaders = load_cifar10(batch_size)\n",
        "model = Model1(image_channels=3, num_classes=10)\n",
        "trainer = Trainer(\n",
        "    batch_size,\n",
        "    learning_rate,\n",
        "    early_stop_count,\n",
        "    epochs,\n",
        "    model,\n",
        "    dataloaders,\n",
        ")\n",
        "trainer.train()"
      ],
      "execution_count": 3,
      "outputs": [
        {
          "output_type": "stream",
          "text": [
            "Files already downloaded and verified\n",
            "Files already downloaded and verified\n"
          ],
          "name": "stdout"
        },
        {
          "output_type": "stream",
          "text": [
            "\r  0%|          | 0/10 [00:00<?, ?it/s]"
          ],
          "name": "stderr"
        },
        {
          "output_type": "stream",
          "text": [
            "Model1(\n",
            "  (feature_extractor): Sequential(\n",
            "    (0): Conv2d(3, 16, kernel_size=(3, 3), stride=(1, 1), padding=(1, 1))\n",
            "    (1): ReLU()\n",
            "    (2): Conv2d(16, 32, kernel_size=(3, 3), stride=(1, 1), padding=(1, 1))\n",
            "    (3): ReLU()\n",
            "    (4): MaxPool2d(kernel_size=2, stride=2, padding=0, dilation=1, ceil_mode=False)\n",
            "    (5): Dropout(p=0.2, inplace=False)\n",
            "    (6): BatchNorm2d(32, eps=1e-05, momentum=0.1, affine=True, track_running_stats=True)\n",
            "    (7): Conv2d(32, 64, kernel_size=(3, 3), stride=(1, 1), padding=(1, 1))\n",
            "    (8): ReLU()\n",
            "    (9): MaxPool2d(kernel_size=2, stride=2, padding=0, dilation=1, ceil_mode=False)\n",
            "    (10): Dropout(p=0.2, inplace=False)\n",
            "    (11): BatchNorm2d(64, eps=1e-05, momentum=0.1, affine=True, track_running_stats=True)\n",
            "    (12): Conv2d(64, 128, kernel_size=(3, 3), stride=(1, 1), padding=(1, 1))\n",
            "    (13): ReLU()\n",
            "    (14): MaxPool2d(kernel_size=2, stride=2, padding=0, dilation=1, ceil_mode=False)\n",
            "    (15): Dropout(p=0.2, inplace=False)\n",
            "    (16): BatchNorm2d(128, eps=1e-05, momentum=0.1, affine=True, track_running_stats=True)\n",
            "    (17): Conv2d(128, 256, kernel_size=(3, 3), stride=(1, 1), padding=(1, 1))\n",
            "    (18): ReLU()\n",
            "    (19): Dropout(p=0.3, inplace=False)\n",
            "    (20): BatchNorm2d(256, eps=1e-05, momentum=0.1, affine=True, track_running_stats=True)\n",
            "  )\n",
            "  (fc): Sequential(\n",
            "    (0): Linear(in_features=4096, out_features=64, bias=True)\n",
            "    (1): ReLU()\n",
            "    (2): BatchNorm1d(64, eps=1e-05, momentum=0.1, affine=True, track_running_stats=True)\n",
            "    (3): Linear(in_features=64, out_features=10, bias=True)\n",
            "  )\n",
            ")\n",
            "Epoch: 0, Batches per seconds: 44.43, Global step:    351, Validation Loss: 1.31, Validation Accuracy: 0.528\n"
          ],
          "name": "stdout"
        },
        {
          "output_type": "stream",
          "text": [
            "\r 10%|█         | 1/10 [00:15<02:21, 15.72s/it]"
          ],
          "name": "stderr"
        },
        {
          "output_type": "stream",
          "text": [
            "Epoch: 0, Batches per seconds: 44.84, Global step:    702, Validation Loss: 1.03, Validation Accuracy: 0.624\n",
            "Epoch: 1, Batches per seconds: 44.70, Global step:   1053, Validation Loss: 0.93, Validation Accuracy: 0.684\n"
          ],
          "name": "stdout"
        },
        {
          "output_type": "stream",
          "text": [
            "\r 20%|██        | 2/10 [00:31<02:05, 15.64s/it]"
          ],
          "name": "stderr"
        },
        {
          "output_type": "stream",
          "text": [
            "Epoch: 1, Batches per seconds: 45.12, Global step:   1404, Validation Loss: 1.01, Validation Accuracy: 0.651\n",
            "Epoch: 2, Batches per seconds: 45.32, Global step:   1755, Validation Loss: 0.88, Validation Accuracy: 0.687\n"
          ],
          "name": "stdout"
        },
        {
          "output_type": "stream",
          "text": [
            "\r 30%|███       | 3/10 [00:46<01:48, 15.52s/it]"
          ],
          "name": "stderr"
        },
        {
          "output_type": "stream",
          "text": [
            "Epoch: 2, Batches per seconds: 45.44, Global step:   2106, Validation Loss: 0.73, Validation Accuracy: 0.742\n",
            "Epoch: 3, Batches per seconds: 45.59, Global step:   2457, Validation Loss: 0.74, Validation Accuracy: 0.737\n"
          ],
          "name": "stdout"
        },
        {
          "output_type": "stream",
          "text": [
            "\r 40%|████      | 4/10 [01:01<01:32, 15.37s/it]"
          ],
          "name": "stderr"
        },
        {
          "output_type": "stream",
          "text": [
            "Epoch: 3, Batches per seconds: 45.78, Global step:   2808, Validation Loss: 0.80, Validation Accuracy: 0.716\n",
            "Epoch: 4, Batches per seconds: 45.69, Global step:   3159, Validation Loss: 0.72, Validation Accuracy: 0.745\n"
          ],
          "name": "stdout"
        },
        {
          "output_type": "stream",
          "text": [
            "\r 50%|█████     | 5/10 [01:16<01:16, 15.33s/it]"
          ],
          "name": "stderr"
        },
        {
          "output_type": "stream",
          "text": [
            "Epoch: 4, Batches per seconds: 45.85, Global step:   3510, Validation Loss: 0.70, Validation Accuracy: 0.758\n",
            "Epoch: 5, Batches per seconds: 45.94, Global step:   3861, Validation Loss: 0.69, Validation Accuracy: 0.770\n"
          ],
          "name": "stdout"
        },
        {
          "output_type": "stream",
          "text": [
            "\r 60%|██████    | 6/10 [01:31<01:00, 15.18s/it]"
          ],
          "name": "stderr"
        },
        {
          "output_type": "stream",
          "text": [
            "Epoch: 5, Batches per seconds: 46.11, Global step:   4212, Validation Loss: 0.68, Validation Accuracy: 0.764\n",
            "Epoch: 6, Batches per seconds: 45.79, Global step:   4563, Validation Loss: 0.64, Validation Accuracy: 0.767\n"
          ],
          "name": "stdout"
        },
        {
          "output_type": "stream",
          "text": [
            "\r 70%|███████   | 7/10 [01:47<00:46, 15.48s/it]"
          ],
          "name": "stderr"
        },
        {
          "output_type": "stream",
          "text": [
            "Epoch: 6, Batches per seconds: 45.71, Global step:   4914, Validation Loss: 0.66, Validation Accuracy: 0.776\n",
            "Epoch: 7, Batches per seconds: 45.56, Global step:   5265, Validation Loss: 0.72, Validation Accuracy: 0.761\n"
          ],
          "name": "stdout"
        },
        {
          "output_type": "stream",
          "text": [
            "\r 80%|████████  | 8/10 [02:03<00:30, 15.46s/it]"
          ],
          "name": "stderr"
        },
        {
          "output_type": "stream",
          "text": [
            "Epoch: 7, Batches per seconds: 45.70, Global step:   5616, Validation Loss: 0.66, Validation Accuracy: 0.790\n",
            "Epoch: 8, Batches per seconds: 45.53, Global step:   5967, Validation Loss: 0.60, Validation Accuracy: 0.796\n"
          ],
          "name": "stdout"
        },
        {
          "output_type": "stream",
          "text": [
            "\r 90%|█████████ | 9/10 [02:18<00:15, 15.54s/it]"
          ],
          "name": "stderr"
        },
        {
          "output_type": "stream",
          "text": [
            "Epoch: 8, Batches per seconds: 45.57, Global step:   6318, Validation Loss: 0.62, Validation Accuracy: 0.784\n",
            "Epoch: 9, Batches per seconds: 45.47, Global step:   6669, Validation Loss: 0.63, Validation Accuracy: 0.793\n",
            "Epoch: 9, Batches per seconds: 45.47, Global step:   7020, Validation Loss: 0.61, Validation Accuracy: 0.790\n"
          ],
          "name": "stdout"
        },
        {
          "output_type": "stream",
          "text": [
            "100%|██████████| 10/10 [02:34<00:00, 15.46s/it]\n"
          ],
          "name": "stderr"
        }
      ]
    },
    {
      "cell_type": "code",
      "metadata": {
        "colab": {
          "base_uri": "https://localhost:8080/"
        },
        "id": "ajYHONUy5fwb",
        "outputId": "be29433c-9ba6-4f9f-d0b4-3ffc84de2794"
      },
      "source": [
        "\n",
        "test_set = trainer.dataloader_test\n",
        "val_set = trainer.dataloader_val\n",
        "train_set = trainer.dataloader_train\n",
        "\n",
        "model.eval()\n",
        "#create_plots(trainer, \"task2_1\")\n",
        "print(compute_loss_and_accuracy(test_set,model = model, loss_criterion=nn.CrossEntropyLoss()))\n",
        "print(compute_loss_and_accuracy(val_set,model = model, loss_criterion=nn.CrossEntropyLoss()))\n",
        "print(compute_loss_and_accuracy(train_set,model = model, loss_criterion=nn.CrossEntropyLoss()))"
      ],
      "execution_count": 4,
      "outputs": [
        {
          "output_type": "stream",
          "text": [
            "(tensor(0.6272, device='cuda:0'), 0.7913)\n",
            "(tensor(0.6359, device='cuda:0'), 0.7902)\n",
            "(tensor(0.4052, device='cuda:0'), 0.8653982930298719)\n"
          ],
          "name": "stdout"
        }
      ]
    },
    {
      "cell_type": "code",
      "metadata": {
        "colab": {
          "base_uri": "https://localhost:8080/",
          "height": 442
        },
        "id": "zAemK9yJIQce",
        "outputId": "9d6dffe9-ddff-4bdb-955b-a19fc8dd15c5"
      },
      "source": [
        "import matplotlib.pyplot as plt\n",
        "import pathlib\n",
        "import utils\n",
        "\n",
        "def plot(task):\n",
        "  plot_path = pathlib.Path(\"plots\")\n",
        "  plot_path.mkdir(exist_ok=True)\n",
        "  # Save plots and show them\n",
        "  plt.figure(figsize=(20, 8))\n",
        "  plt.subplot(1, 2, 1)\n",
        "  plt.title(\"Cross Entropy Loss\")\n",
        "  utils.plot_loss(trainer.train_history[\"loss\"], label=\"Training loss\", npoints_to_average=10)\n",
        "  utils.plot_loss(trainer.validation_history[\"loss\"], label=\"Validation loss\")\n",
        "  plt.legend()\n",
        "  plt.subplot(1, 2, 2)\n",
        "  plt.title(\"Accuracy\")\n",
        "  utils.plot_loss(trainer.validation_history[\"accuracy\"], label=\"Validation Accuracy\")\n",
        "  plt.legend()\n",
        "  plt.savefig(plot_path.joinpath(f\"plotTask{task}.png\"))\n",
        "  plt.show()\n",
        "\n",
        "plot(\"3c\")"
      ],
      "execution_count": 5,
      "outputs": [
        {
          "output_type": "display_data",
          "data": {
            "image/png": "[encoded data removed]",
            "text/plain": [
              "<Figure size 1440x576 with 2 Axes>"
            ]
          },
          "metadata": {
            "tags": [],
            "needs_background": "light"
          }
        }
      ]
    },
    {
      "cell_type": "code",
      "metadata": {
        "id": "RoZaTWH0GdWN"
      },
      "source": [
        "class Model2(nn.Module):\n",
        "\n",
        "    def __init__(self,\n",
        "                 image_channels,\n",
        "                 num_classes):\n",
        "        \"\"\"\n",
        "            Is called when model is initialized.\n",
        "            Args:\n",
        "\n",
        "                image_channels. Number of color channels in image (3)\n",
        "                num_classes: Number of classes we want to predict (10)\n",
        "        \"\"\"\n",
        "\n",
        "\n",
        "\n",
        "        super().__init__()\n",
        "        # TODO: Implement this function (Task  2a)\n",
        "\n",
        "        self.num_classes = num_classes\n",
        "        # Define the convolutional layers\n",
        "        self.feature_extractor = nn.Sequential( # The output of feature_extractor_1 will be [batch_size, num_filters, 16, 16]            #Layer1\n",
        "            #Layer 1\n",
        "            nn.Conv2d(\n",
        "                in_channels=3,\n",
        "                out_channels=16,\n",
        "                kernel_size=3,\n",
        "                stride=1,\n",
        "                padding=1\n",
        "            ),\n",
        "            nn.ReLU(),\n",
        "            nn.Conv2d(\n",
        "                in_channels=16,\n",
        "                out_channels=32,\n",
        "                kernel_size=3,\n",
        "                stride=1,\n",
        "                padding=1\n",
        "            ),\n",
        "            nn.ReLU(),\n",
        "            nn.MaxPool2d(kernel_size=2,stride=2),\n",
        "            nn.Dropout(0.2),\n",
        "            nn.BatchNorm2d(32),\n",
        "            #Layer 2\n",
        "            nn.Conv2d(\n",
        "                in_channels=32,\n",
        "                out_channels=64,\n",
        "                kernel_size=3,\n",
        "                stride=1,\n",
        "                padding=1\n",
        "            ),\n",
        "            nn.ReLU(),\n",
        "            nn.MaxPool2d(kernel_size=2,stride=2),\n",
        "            nn.Dropout(0.2),\n",
        "            nn.BatchNorm2d(64),\n",
        "            #Layer 3\n",
        "            nn.Conv2d(\n",
        "                in_channels=64,\n",
        "                out_channels=128,\n",
        "                kernel_size=3,\n",
        "                stride=1,\n",
        "                padding=1\n",
        "            ),\n",
        "            nn.ReLU(),\n",
        "            nn.MaxPool2d(kernel_size=2,stride=2),\n",
        "            nn.Dropout(0.2),\n",
        "            nn.BatchNorm2d(128),\n",
        "        )\n",
        "        \n",
        "        #Fully connected below\n",
        "        self.fc  = nn.Sequential(\n",
        "            nn.Linear(128*4*4, 64), #after 3 maxpools where each halves \"x-y\" dimensions\n",
        "            nn.ReLU(),\n",
        "            nn.BatchNorm1d(64),\n",
        "            nn.Linear(64, 10),\n",
        "        )\n",
        "\n",
        "        self.num_output_features = 32*32*32\n",
        "        # Initialize our last fully connected layer\n",
        "        # Inputs all extracted features from the convolutional layers\n",
        "        # Outputs num_classes predictions, 1 for each class.\n",
        "        # There is no need for softmax activation function, as this is\n",
        "        # included with nn.CrossEntropyLoss\n",
        "       \n",
        "\n",
        "    def forward(self, x):\n",
        "        \"\"\"\n",
        "        Performs a forward pass through the model\n",
        "        Args:\n",
        "            x: Input image, shape: [batch_size, 3, 32, 32]\n",
        "        \"\"\"\n",
        "        # TODO: Implement this function (Task  2a)\n",
        "        batch_size = x.shape[0]\n",
        "        out = x\n",
        "        expected_shape = (batch_size, self.num_classes)\n",
        "        out = self.feature_extractor(out)\n",
        "        out = out.view(batch_size, -1)\n",
        "        out = self.fc(out)  \n",
        "        \n",
        "        \n",
        "        assert out.shape == (batch_size, self.num_classes),\\\n",
        "            f\"Expected output of forward pass to be: {expected_shape}, but got: {out.shape}\"\n",
        "        return out\n"
      ],
      "execution_count": 5,
      "outputs": []
    },
    {
      "cell_type": "code",
      "metadata": {
        "colab": {
          "base_uri": "https://localhost:8080/"
        },
        "id": "jc0cMMpAGoGw",
        "outputId": "8b353b78-95f6-4ae2-bb20-f73b65ab6496"
      },
      "source": [
        "epochs = 10\n",
        "batch_size = 64\n",
        "learning_rate = 3e-2 # Should be 5e-5 for LeNet\n",
        "early_stop_count = 7\n",
        "dataloaders = load_cifar10(batch_size)\n",
        "model_2 = Model2(image_channels=3, num_classes=10)\n",
        "trainer_2 = Trainer(\n",
        "    batch_size,\n",
        "    learning_rate,\n",
        "    early_stop_count,\n",
        "    epochs,\n",
        "    model_2,\n",
        "    dataloaders,\n",
        ")\n",
        "trainer_2.train()"
      ],
      "execution_count": 6,
      "outputs": [
        {
          "output_type": "stream",
          "text": [
            "Files already downloaded and verified\n",
            "Files already downloaded and verified\n"
          ],
          "name": "stdout"
        },
        {
          "output_type": "stream",
          "text": [
            "\r  0%|          | 0/10 [00:00<?, ?it/s]"
          ],
          "name": "stderr"
        },
        {
          "output_type": "stream",
          "text": [
            "Model2(\n",
            "  (feature_extractor): Sequential(\n",
            "    (0): Conv2d(3, 16, kernel_size=(3, 3), stride=(1, 1), padding=(1, 1))\n",
            "    (1): ReLU()\n",
            "    (2): Conv2d(16, 32, kernel_size=(3, 3), stride=(1, 1), padding=(1, 1))\n",
            "    (3): ReLU()\n",
            "    (4): MaxPool2d(kernel_size=2, stride=2, padding=0, dilation=1, ceil_mode=False)\n",
            "    (5): Dropout(p=0.2, inplace=False)\n",
            "    (6): BatchNorm2d(32, eps=1e-05, momentum=0.1, affine=True, track_running_stats=True)\n",
            "    (7): Conv2d(32, 64, kernel_size=(3, 3), stride=(1, 1), padding=(1, 1))\n",
            "    (8): ReLU()\n",
            "    (9): MaxPool2d(kernel_size=2, stride=2, padding=0, dilation=1, ceil_mode=False)\n",
            "    (10): Dropout(p=0.2, inplace=False)\n",
            "    (11): BatchNorm2d(64, eps=1e-05, momentum=0.1, affine=True, track_running_stats=True)\n",
            "    (12): Conv2d(64, 128, kernel_size=(3, 3), stride=(1, 1), padding=(1, 1))\n",
            "    (13): ReLU()\n",
            "    (14): MaxPool2d(kernel_size=2, stride=2, padding=0, dilation=1, ceil_mode=False)\n",
            "    (15): Dropout(p=0.2, inplace=False)\n",
            "    (16): BatchNorm2d(128, eps=1e-05, momentum=0.1, affine=True, track_running_stats=True)\n",
            "  )\n",
            "  (fc): Sequential(\n",
            "    (0): Linear(in_features=2048, out_features=64, bias=True)\n",
            "    (1): ReLU()\n",
            "    (2): BatchNorm1d(64, eps=1e-05, momentum=0.1, affine=True, track_running_stats=True)\n",
            "    (3): Linear(in_features=64, out_features=10, bias=True)\n",
            "  )\n",
            ")\n",
            "Epoch: 0, Batches per seconds: 46.51, Global step:    351, Validation Loss: 1.27, Validation Accuracy: 0.547\n"
          ],
          "name": "stdout"
        },
        {
          "output_type": "stream",
          "text": [
            "\r 10%|█         | 1/10 [00:15<02:16, 15.15s/it]"
          ],
          "name": "stderr"
        },
        {
          "output_type": "stream",
          "text": [
            "Epoch: 0, Batches per seconds: 46.53, Global step:    702, Validation Loss: 1.03, Validation Accuracy: 0.646\n",
            "Epoch: 1, Batches per seconds: 47.12, Global step:   1053, Validation Loss: 1.00, Validation Accuracy: 0.655\n"
          ],
          "name": "stdout"
        },
        {
          "output_type": "stream",
          "text": [
            "\r 20%|██        | 2/10 [00:29<01:59, 14.99s/it]"
          ],
          "name": "stderr"
        },
        {
          "output_type": "stream",
          "text": [
            "Epoch: 1, Batches per seconds: 47.28, Global step:   1404, Validation Loss: 0.88, Validation Accuracy: 0.689\n",
            "Epoch: 2, Batches per seconds: 47.30, Global step:   1755, Validation Loss: 0.82, Validation Accuracy: 0.705\n"
          ],
          "name": "stdout"
        },
        {
          "output_type": "stream",
          "text": [
            "\r 30%|███       | 3/10 [00:44<01:44, 14.90s/it]"
          ],
          "name": "stderr"
        },
        {
          "output_type": "stream",
          "text": [
            "Epoch: 2, Batches per seconds: 47.47, Global step:   2106, Validation Loss: 0.82, Validation Accuracy: 0.718\n",
            "Epoch: 3, Batches per seconds: 47.04, Global step:   2457, Validation Loss: 0.80, Validation Accuracy: 0.722\n"
          ],
          "name": "stdout"
        },
        {
          "output_type": "stream",
          "text": [
            "\r 40%|████      | 4/10 [00:59<01:30, 15.08s/it]"
          ],
          "name": "stderr"
        },
        {
          "output_type": "stream",
          "text": [
            "Epoch: 3, Batches per seconds: 46.91, Global step:   2808, Validation Loss: 0.80, Validation Accuracy: 0.724\n",
            "Epoch: 4, Batches per seconds: 46.48, Global step:   3159, Validation Loss: 0.75, Validation Accuracy: 0.738\n"
          ],
          "name": "stdout"
        },
        {
          "output_type": "stream",
          "text": [
            "\r 50%|█████     | 5/10 [01:15<01:16, 15.25s/it]"
          ],
          "name": "stderr"
        },
        {
          "output_type": "stream",
          "text": [
            "Epoch: 4, Batches per seconds: 46.50, Global step:   3510, Validation Loss: 0.72, Validation Accuracy: 0.753\n",
            "Epoch: 5, Batches per seconds: 46.36, Global step:   3861, Validation Loss: 0.70, Validation Accuracy: 0.753\n"
          ],
          "name": "stdout"
        },
        {
          "output_type": "stream",
          "text": [
            "\r 60%|██████    | 6/10 [01:30<01:01, 15.26s/it]"
          ],
          "name": "stderr"
        },
        {
          "output_type": "stream",
          "text": [
            "Epoch: 5, Batches per seconds: 46.41, Global step:   4212, Validation Loss: 0.66, Validation Accuracy: 0.769\n",
            "Epoch: 6, Batches per seconds: 46.51, Global step:   4563, Validation Loss: 0.70, Validation Accuracy: 0.757\n"
          ],
          "name": "stdout"
        },
        {
          "output_type": "stream",
          "text": [
            "\r 70%|███████   | 7/10 [01:45<00:45, 15.11s/it]"
          ],
          "name": "stderr"
        },
        {
          "output_type": "stream",
          "text": [
            "Epoch: 6, Batches per seconds: 46.58, Global step:   4914, Validation Loss: 0.68, Validation Accuracy: 0.772\n",
            "Epoch: 7, Batches per seconds: 46.65, Global step:   5265, Validation Loss: 0.69, Validation Accuracy: 0.756\n"
          ],
          "name": "stdout"
        },
        {
          "output_type": "stream",
          "text": [
            "\r 80%|████████  | 8/10 [02:00<00:29, 14.97s/it]"
          ],
          "name": "stderr"
        },
        {
          "output_type": "stream",
          "text": [
            "Epoch: 7, Batches per seconds: 46.75, Global step:   5616, Validation Loss: 0.64, Validation Accuracy: 0.778\n",
            "Epoch: 8, Batches per seconds: 46.79, Global step:   5967, Validation Loss: 0.67, Validation Accuracy: 0.768\n",
            "Epoch: 8, Batches per seconds: 46.94, Global step:   6318, Validation Loss: 0.62, Validation Accuracy: 0.786\n"
          ],
          "name": "stdout"
        },
        {
          "output_type": "stream",
          "text": [
            "\r 90%|█████████ | 9/10 [02:14<00:14, 14.83s/it]"
          ],
          "name": "stderr"
        },
        {
          "output_type": "stream",
          "text": [
            "Epoch: 9, Batches per seconds: 47.00, Global step:   6669, Validation Loss: 0.67, Validation Accuracy: 0.769\n"
          ],
          "name": "stdout"
        },
        {
          "output_type": "stream",
          "text": [
            "100%|██████████| 10/10 [02:29<00:00, 14.96s/it]"
          ],
          "name": "stderr"
        },
        {
          "output_type": "stream",
          "text": [
            "Epoch: 9, Batches per seconds: 47.00, Global step:   7020, Validation Loss: 0.61, Validation Accuracy: 0.787\n"
          ],
          "name": "stdout"
        },
        {
          "output_type": "stream",
          "text": [
            "\n"
          ],
          "name": "stderr"
        }
      ]
    },
    {
      "cell_type": "code",
      "metadata": {
        "id": "_TKGxtf6XBwa"
      },
      "source": [
        ""
      ],
      "execution_count": null,
      "outputs": []
    },
    {
      "cell_type": "code",
      "metadata": {
        "colab": {
          "base_uri": "https://localhost:8080/"
        },
        "id": "c9ytSTzLHB_R",
        "outputId": "1fecd8f5-6393-4223-de92-4e9fe6769029"
      },
      "source": [
        "\n",
        "test_set = trainer_2.dataloader_test\n",
        "val_set = trainer_2.dataloader_val\n",
        "train_set = trainer_2.dataloader_train\n",
        "\n",
        "model_2.eval()\n",
        "\n",
        "#create_plots(trainer, \"task2_1\")\n",
        "print(compute_loss_and_accuracy(dataloader=test_set,model = model_2, loss_criterion=nn.CrossEntropyLoss()))\n",
        "print(compute_loss_and_accuracy(dataloader=val_set,model = model_2, loss_criterion=nn.CrossEntropyLoss()))\n",
        "print(compute_loss_and_accuracy(dataloader=train_set,model = model_2, loss_criterion=nn.CrossEntropyLoss()))"
      ],
      "execution_count": 7,
      "outputs": [
        {
          "output_type": "stream",
          "text": [
            "(tensor(0.6452, device='cuda:0'), 0.7853)\n",
            "(tensor(0.6516, device='cuda:0'), 0.7772)\n",
            "(tensor(0.4157, device='cuda:0'), 0.8551964793741109)\n"
          ],
          "name": "stdout"
        }
      ]
    },
    {
      "cell_type": "code",
      "metadata": {
        "id": "8viybKXJWURQ"
      },
      "source": [
        ""
      ],
      "execution_count": null,
      "outputs": []
    },
    {
      "cell_type": "markdown",
      "metadata": {
        "id": "YDld7jkNWWHc"
      },
      "source": [
        "## Task 3 - multiple plots describing the best change\n",
        "\n"
      ]
    },
    {
      "cell_type": "code",
      "metadata": {
        "id": "cgYIqd43Wd6p"
      },
      "source": [
        "class Model3c_1(nn.Module):\n",
        "\n",
        "    def __init__(self,\n",
        "                 image_channels,\n",
        "                 num_classes):\n",
        "        \"\"\"\n",
        "            Is called when model is initialized.\n",
        "            Args:\n",
        "\n",
        "                image_channels. Number of color channels in image (3)\n",
        "                num_classes: Number of classes we want to predict (10)\n",
        "        \"\"\"\n",
        "\n",
        "\n",
        "\n",
        "        super().__init__()\n",
        "        # TODO: Implement this function (Task  2a)\n",
        "\n",
        "        self.num_classes = num_classes\n",
        "        # Define the convolutional layers\n",
        "        self.feature_extractor = nn.Sequential( # The output of feature_extractor_1 will be [batch_size, num_filters, 16, 16]            #Layer1\n",
        "            #Layer 1\n",
        "            nn.Conv2d(\n",
        "                in_channels=3,\n",
        "                out_channels=16,\n",
        "                kernel_size=3,\n",
        "                stride=1,\n",
        "                padding=1\n",
        "            ),\n",
        "            nn.ReLU(),\n",
        "            nn.Conv2d(\n",
        "                in_channels=16,\n",
        "                out_channels=32,\n",
        "                kernel_size=3,\n",
        "                stride=1,\n",
        "                padding=1\n",
        "            ),\n",
        "            nn.ReLU(),\n",
        "            nn.MaxPool2d(kernel_size=2,stride=2),\n",
        "            nn.Dropout(0.2),\n",
        "            nn.BatchNorm2d(32),\n",
        "            #Layer 2\n",
        "            nn.Conv2d(\n",
        "                in_channels=32,\n",
        "                out_channels=64,\n",
        "                kernel_size=3,\n",
        "                stride=1,\n",
        "                padding=1\n",
        "            ),\n",
        "            nn.ReLU(),\n",
        "            nn.MaxPool2d(kernel_size=2,stride=2),\n",
        "            nn.Dropout(0.2),\n",
        "            nn.BatchNorm2d(64),\n",
        "            #Layer 3\n",
        "            nn.Conv2d(\n",
        "                in_channels=64,\n",
        "                out_channels=128,\n",
        "                kernel_size=3,\n",
        "                stride=1,\n",
        "                padding=1\n",
        "            ),\n",
        "            nn.ReLU(),\n",
        "            nn.MaxPool2d(kernel_size=2,stride=2),\n",
        "            nn.Dropout(0.2),\n",
        "            nn.BatchNorm2d(128),\n",
        "        )\n",
        "        \n",
        "        #Fully connected below\n",
        "        self.fc = nn.Sequential(\n",
        "            nn.Linear(128*4*4, 64), #after 3 maxpools where each halves \"x-y\" dimensions\n",
        "            nn.ReLU(),\n",
        "            nn.BatchNorm1d(64),\n",
        "            nn.Linear(64, 10),\n",
        "        )\n",
        "\n",
        "        self.num_output_features = 32*32*32\n",
        "        # Initialize our last fully connected layer\n",
        "        # Inputs all extracted features from the convolutional layers\n",
        "        # Outputs num_classes predictions, 1 for each class.\n",
        "        # There is no need for softmax activation function, as this is\n",
        "        # included with nn.CrossEntropyLoss\n",
        "       \n",
        "\n",
        "    def forward(self, x):\n",
        "        \"\"\"\n",
        "        Performs a forward pass through the model\n",
        "        Args:\n",
        "            x: Input image, shape: [batch_size, 3, 32, 32]\n",
        "        \"\"\"\n",
        "        # TODO: Implement this function (Task  2a)\n",
        "        batch_size = x.shape[0]\n",
        "        out = x\n",
        "        expected_shape = (batch_size, self.num_classes)\n",
        "        out = self.feature_extractor(out)\n",
        "        out = out.view(batch_size, -1)\n",
        "        out = self.fc(out)  \n",
        "        \n",
        "        \n",
        "        assert out.shape == (batch_size, self.num_classes),\\\n",
        "            f\"Expected output of forward pass to be: {expected_shape}, but got: {out.shape}\"\n",
        "        return out\n"
      ],
      "execution_count": null,
      "outputs": []
    },
    {
      "cell_type": "code",
      "metadata": {
        "id": "ZpSta6_RWsRc"
      },
      "source": [
        "class Model3c_2(nn.Module):\n",
        "\n",
        "    def __init__(self,\n",
        "                 image_channels,\n",
        "                 num_classes):\n",
        "        \"\"\"\n",
        "            Is called when model is initialized.\n",
        "            Args:\n",
        "\n",
        "                image_channels. Number of color channels in image (3)\n",
        "                num_classes: Number of classes we want to predict (10)\n",
        "        \"\"\"\n",
        "\n",
        "\n",
        "\n",
        "        super().__init__()\n",
        "        # TODO: Implement this function (Task  2a)\n",
        "\n",
        "        self.num_classes = num_classes\n",
        "        # Define the convolutional layers\n",
        "        self.feature_extractor = nn.Sequential( # The output of feature_extractor_1 will be [batch_size, num_filters, 16, 16]            #Layer1\n",
        "            #Layer 1\n",
        "            nn.Conv2d(\n",
        "                in_channels=3,\n",
        "                out_channels=16,\n",
        "                kernel_size=3,\n",
        "                stride=1,\n",
        "                padding=1\n",
        "            ),\n",
        "            nn.ReLU(),\n",
        "            nn.Conv2d(\n",
        "                in_channels=16,\n",
        "                out_channels=32,\n",
        "                kernel_size=3,\n",
        "                stride=1,\n",
        "                padding=1\n",
        "            ),\n",
        "            nn.ReLU(),\n",
        "            nn.MaxPool2d(kernel_size=2,stride=2),\n",
        "            #nn.Dropout(0.2),\n",
        "            nn.BatchNorm2d(32),\n",
        "            #Layer 2\n",
        "            nn.Conv2d(\n",
        "                in_channels=32,\n",
        "                out_channels=64,\n",
        "                kernel_size=3,\n",
        "                stride=1,\n",
        "                padding=1\n",
        "            ),\n",
        "            nn.ReLU(),\n",
        "            nn.MaxPool2d(kernel_size=2,stride=2),\n",
        "            #nn.Dropout(0.2),\n",
        "            nn.BatchNorm2d(64),\n",
        "            #Layer 3\n",
        "            nn.Conv2d(\n",
        "                in_channels=64,\n",
        "                out_channels=128,\n",
        "                kernel_size=3,\n",
        "                stride=1,\n",
        "                padding=1\n",
        "            ),\n",
        "            nn.ReLU(),\n",
        "            nn.MaxPool2d(kernel_size=2,stride=2),\n",
        "            #nn.Dropout(0.2),\n",
        "            nn.BatchNorm2d(128),\n",
        "        )\n",
        "        \n",
        "        #Fully connected below\n",
        "        self.fc  = nn.Sequential(\n",
        "            nn.Linear(128*4*4, 64), #after 3 maxpools where each halves \"x-y\" dimensions\n",
        "            nn.ReLU(),\n",
        "            nn.BatchNorm1d(64),\n",
        "            nn.Linear(64, 10),\n",
        "        )\n",
        "\n",
        "        self.num_output_features = 32*32*32\n",
        "        # Initialize our last fully connected layer\n",
        "        # Inputs all extracted features from the convolutional layers\n",
        "        # Outputs num_classes predictions, 1 for each class.\n",
        "        # There is no need for softmax activation function, as this is\n",
        "        # included with nn.CrossEntropyLoss\n",
        "       \n",
        "\n",
        "    def forward(self, x):\n",
        "        \"\"\"\n",
        "        Performs a forward pass through the model\n",
        "        Args:\n",
        "            x: Input image, shape: [batch_size, 3, 32, 32]\n",
        "        \"\"\"\n",
        "        # TODO: Implement this function (Task  2a)\n",
        "        batch_size = x.shape[0]\n",
        "        out = x\n",
        "        expected_shape = (batch_size, self.num_classes)\n",
        "        out = self.feature_extractor(out)\n",
        "        out = out.view(batch_size, -1)\n",
        "        out = self.fc(out)  \n",
        "        \n",
        "        \n",
        "        assert out.shape == (batch_size, self.num_classes),\\\n",
        "            f\"Expected output of forward pass to be: {expected_shape}, but got: {out.shape}\"\n",
        "        return out\n"
      ],
      "execution_count": null,
      "outputs": []
    },
    {
      "cell_type": "code",
      "metadata": {
        "colab": {
          "base_uri": "https://localhost:8080/"
        },
        "id": "fuQKoZjPXC78",
        "outputId": "8db9c2f2-2e28-4cfb-fe22-44efad769584"
      },
      "source": [
        "epochs = 10\n",
        "batch_size = 64\n",
        "learning_rate = 3e-2 # Should be 5e-5 for LeNet\n",
        "early_stop_count = 7\n",
        "dataloaders = load_cifar10(batch_size)\n",
        "model_3c1 = Model3c_1(image_channels=3, num_classes=10)\n",
        "trainer_3c1 = Trainer(\n",
        "    batch_size,\n",
        "    learning_rate,\n",
        "    early_stop_count,\n",
        "    epochs,\n",
        "    model_3c1,\n",
        "    dataloaders,\n",
        ")\n",
        "trainer_3c1.train()"
      ],
      "execution_count": null,
      "outputs": [
        {
          "output_type": "stream",
          "text": [
            "Files already downloaded and verified\n",
            "Files already downloaded and verified\n"
          ],
          "name": "stdout"
        },
        {
          "output_type": "stream",
          "text": [
            "\n",
            "\n",
            "\n",
            "  0%|          | 0/10 [00:00<?, ?it/s]\u001b[A\u001b[A\u001b[A"
          ],
          "name": "stderr"
        },
        {
          "output_type": "stream",
          "text": [
            "Model3c_1(\n",
            "  (feature_extractor): Sequential(\n",
            "    (0): Conv2d(3, 16, kernel_size=(3, 3), stride=(1, 1), padding=(1, 1))\n",
            "    (1): ReLU()\n",
            "    (2): Conv2d(16, 32, kernel_size=(3, 3), stride=(1, 1), padding=(1, 1))\n",
            "    (3): ReLU()\n",
            "    (4): MaxPool2d(kernel_size=2, stride=2, padding=0, dilation=1, ceil_mode=False)\n",
            "    (5): Dropout(p=0.2, inplace=False)\n",
            "    (6): BatchNorm2d(32, eps=1e-05, momentum=0.1, affine=True, track_running_stats=True)\n",
            "    (7): Conv2d(32, 64, kernel_size=(3, 3), stride=(1, 1), padding=(1, 1))\n",
            "    (8): ReLU()\n",
            "    (9): MaxPool2d(kernel_size=2, stride=2, padding=0, dilation=1, ceil_mode=False)\n",
            "    (10): Dropout(p=0.2, inplace=False)\n",
            "    (11): BatchNorm2d(64, eps=1e-05, momentum=0.1, affine=True, track_running_stats=True)\n",
            "    (12): Conv2d(64, 128, kernel_size=(3, 3), stride=(1, 1), padding=(1, 1))\n",
            "    (13): ReLU()\n",
            "    (14): MaxPool2d(kernel_size=2, stride=2, padding=0, dilation=1, ceil_mode=False)\n",
            "    (15): Dropout(p=0.2, inplace=False)\n",
            "    (16): BatchNorm2d(128, eps=1e-05, momentum=0.1, affine=True, track_running_stats=True)\n",
            "  )\n",
            "  (fc): Sequential(\n",
            "    (0): Linear(in_features=2048, out_features=64, bias=True)\n",
            "    (1): ReLU()\n",
            "    (2): BatchNorm1d(64, eps=1e-05, momentum=0.1, affine=True, track_running_stats=True)\n",
            "    (3): Linear(in_features=64, out_features=10, bias=True)\n",
            "  )\n",
            "  (classifier): Sequential(\n",
            "    (0): Linear(in_features=2048, out_features=64, bias=True)\n",
            "    (1): ReLU()\n",
            "    (2): BatchNorm1d(64, eps=1e-05, momentum=0.1, affine=True, track_running_stats=True)\n",
            "    (3): Linear(in_features=64, out_features=10, bias=True)\n",
            "  )\n",
            ")\n",
            "Epoch: 0, Batches per seconds: 48.70, Global step:    351, Validation Loss: 1.42, Validation Accuracy: 0.478\n"
          ],
          "name": "stdout"
        },
        {
          "output_type": "stream",
          "text": [
            "\n",
            "\n",
            "\n",
            " 10%|█         | 1/10 [00:14<02:07, 14.18s/it]\u001b[A\u001b[A\u001b[A"
          ],
          "name": "stderr"
        },
        {
          "output_type": "stream",
          "text": [
            "Epoch: 0, Batches per seconds: 49.71, Global step:    702, Validation Loss: 1.04, Validation Accuracy: 0.626\n",
            "Epoch: 1, Batches per seconds: 49.59, Global step:   1053, Validation Loss: 0.92, Validation Accuracy: 0.682\n"
          ],
          "name": "stdout"
        },
        {
          "output_type": "stream",
          "text": [
            "\n",
            "\n",
            "\n",
            " 20%|██        | 2/10 [00:28<01:53, 14.21s/it]\u001b[A\u001b[A\u001b[A"
          ],
          "name": "stderr"
        },
        {
          "output_type": "stream",
          "text": [
            "Epoch: 1, Batches per seconds: 49.48, Global step:   1404, Validation Loss: 0.87, Validation Accuracy: 0.701\n",
            "Epoch: 2, Batches per seconds: 49.30, Global step:   1755, Validation Loss: 0.95, Validation Accuracy: 0.670\n"
          ],
          "name": "stdout"
        },
        {
          "output_type": "stream",
          "text": [
            "\n",
            "\n",
            "\n",
            " 30%|███       | 3/10 [00:42<01:39, 14.16s/it]\u001b[A\u001b[A\u001b[A"
          ],
          "name": "stderr"
        },
        {
          "output_type": "stream",
          "text": [
            "Epoch: 2, Batches per seconds: 49.63, Global step:   2106, Validation Loss: 0.82, Validation Accuracy: 0.712\n",
            "Epoch: 3, Batches per seconds: 49.63, Global step:   2457, Validation Loss: 0.79, Validation Accuracy: 0.730\n"
          ],
          "name": "stdout"
        },
        {
          "output_type": "stream",
          "text": [
            "\n",
            "\n",
            "\n",
            " 40%|████      | 4/10 [00:56<01:24, 14.15s/it]\u001b[A\u001b[A\u001b[A"
          ],
          "name": "stderr"
        },
        {
          "output_type": "stream",
          "text": [
            "Epoch: 3, Batches per seconds: 49.68, Global step:   2808, Validation Loss: 0.77, Validation Accuracy: 0.729\n",
            "Epoch: 4, Batches per seconds: 49.55, Global step:   3159, Validation Loss: 0.67, Validation Accuracy: 0.763\n"
          ],
          "name": "stdout"
        },
        {
          "output_type": "stream",
          "text": [
            "\n",
            "\n",
            "\n",
            " 50%|█████     | 5/10 [01:10<01:10, 14.14s/it]\u001b[A\u001b[A\u001b[A"
          ],
          "name": "stderr"
        },
        {
          "output_type": "stream",
          "text": [
            "Epoch: 4, Batches per seconds: 49.69, Global step:   3510, Validation Loss: 0.69, Validation Accuracy: 0.765\n",
            "Epoch: 5, Batches per seconds: 49.59, Global step:   3861, Validation Loss: 0.71, Validation Accuracy: 0.761\n"
          ],
          "name": "stdout"
        },
        {
          "output_type": "stream",
          "text": [
            "\n",
            "\n",
            "\n",
            " 60%|██████    | 6/10 [01:24<00:56, 14.15s/it]\u001b[A\u001b[A\u001b[A"
          ],
          "name": "stderr"
        },
        {
          "output_type": "stream",
          "text": [
            "Epoch: 5, Batches per seconds: 49.67, Global step:   4212, Validation Loss: 0.71, Validation Accuracy: 0.753\n",
            "Epoch: 6, Batches per seconds: 49.62, Global step:   4563, Validation Loss: 0.64, Validation Accuracy: 0.775\n"
          ],
          "name": "stdout"
        },
        {
          "output_type": "stream",
          "text": [
            "\n",
            "\n",
            "\n",
            " 70%|███████   | 7/10 [01:38<00:42, 14.11s/it]\u001b[A\u001b[A\u001b[A"
          ],
          "name": "stderr"
        },
        {
          "output_type": "stream",
          "text": [
            "Epoch: 6, Batches per seconds: 49.74, Global step:   4914, Validation Loss: 0.67, Validation Accuracy: 0.762\n",
            "Epoch: 7, Batches per seconds: 49.66, Global step:   5265, Validation Loss: 0.64, Validation Accuracy: 0.779\n"
          ],
          "name": "stdout"
        },
        {
          "output_type": "stream",
          "text": [
            "\n",
            "\n",
            "\n",
            " 80%|████████  | 8/10 [01:53<00:28, 14.12s/it]\u001b[A\u001b[A\u001b[A"
          ],
          "name": "stderr"
        },
        {
          "output_type": "stream",
          "text": [
            "Epoch: 7, Batches per seconds: 49.74, Global step:   5616, Validation Loss: 0.59, Validation Accuracy: 0.799\n",
            "Epoch: 8, Batches per seconds: 49.67, Global step:   5967, Validation Loss: 0.61, Validation Accuracy: 0.788\n"
          ],
          "name": "stdout"
        },
        {
          "output_type": "stream",
          "text": [
            "\n",
            "\n",
            "\n",
            " 90%|█████████ | 9/10 [02:07<00:14, 14.14s/it]\u001b[A\u001b[A\u001b[A"
          ],
          "name": "stderr"
        },
        {
          "output_type": "stream",
          "text": [
            "Epoch: 8, Batches per seconds: 49.71, Global step:   6318, Validation Loss: 0.60, Validation Accuracy: 0.796\n",
            "Epoch: 9, Batches per seconds: 49.65, Global step:   6669, Validation Loss: 0.62, Validation Accuracy: 0.789\n"
          ],
          "name": "stdout"
        },
        {
          "output_type": "stream",
          "text": [
            "\n",
            "\n",
            "\n"
          ],
          "name": "stderr"
        },
        {
          "output_type": "stream",
          "text": [
            "Epoch: 9, Batches per seconds: 49.72, Global step:   7020, Validation Loss: 0.62, Validation Accuracy: 0.795\n"
          ],
          "name": "stdout"
        },
        {
          "output_type": "stream",
          "text": [
            "100%|██████████| 10/10 [02:21<00:00, 14.14s/it]\n"
          ],
          "name": "stderr"
        }
      ]
    },
    {
      "cell_type": "code",
      "metadata": {
        "colab": {
          "base_uri": "https://localhost:8080/"
        },
        "id": "2kRAySw6XECQ",
        "outputId": "1dbb8e41-9869-409b-8eca-42be10064810"
      },
      "source": [
        "epochs = 10\n",
        "batch_size = 64\n",
        "learning_rate = 3e-2 # Should be 5e-5 for LeNet\n",
        "early_stop_count = 7\n",
        "dataloaders = load_cifar10(batch_size)\n",
        "model_3c2 = Model3c_2(image_channels=3, num_classes=10)\n",
        "trainer_3c2 = Trainer(\n",
        "    batch_size,\n",
        "    learning_rate,\n",
        "    early_stop_count,\n",
        "    epochs,\n",
        "    model_3c2,\n",
        "    dataloaders,\n",
        ")\n",
        "trainer_3c2.train()"
      ],
      "execution_count": null,
      "outputs": [
        {
          "output_type": "stream",
          "text": [
            "Files already downloaded and verified\n",
            "Files already downloaded and verified\n"
          ],
          "name": "stdout"
        },
        {
          "output_type": "stream",
          "text": [
            "\n",
            "\n",
            "\n",
            "  0%|          | 0/10 [00:00<?, ?it/s]\u001b[A\u001b[A\u001b[A"
          ],
          "name": "stderr"
        },
        {
          "output_type": "stream",
          "text": [
            "Model3c_2(\n",
            "  (feature_extractor): Sequential(\n",
            "    (0): Conv2d(3, 16, kernel_size=(3, 3), stride=(1, 1), padding=(1, 1))\n",
            "    (1): ReLU()\n",
            "    (2): Conv2d(16, 32, kernel_size=(3, 3), stride=(1, 1), padding=(1, 1))\n",
            "    (3): ReLU()\n",
            "    (4): MaxPool2d(kernel_size=2, stride=2, padding=0, dilation=1, ceil_mode=False)\n",
            "    (5): BatchNorm2d(32, eps=1e-05, momentum=0.1, affine=True, track_running_stats=True)\n",
            "    (6): Conv2d(32, 64, kernel_size=(3, 3), stride=(1, 1), padding=(1, 1))\n",
            "    (7): ReLU()\n",
            "    (8): MaxPool2d(kernel_size=2, stride=2, padding=0, dilation=1, ceil_mode=False)\n",
            "    (9): BatchNorm2d(64, eps=1e-05, momentum=0.1, affine=True, track_running_stats=True)\n",
            "    (10): Conv2d(64, 128, kernel_size=(3, 3), stride=(1, 1), padding=(1, 1))\n",
            "    (11): ReLU()\n",
            "    (12): MaxPool2d(kernel_size=2, stride=2, padding=0, dilation=1, ceil_mode=False)\n",
            "    (13): BatchNorm2d(128, eps=1e-05, momentum=0.1, affine=True, track_running_stats=True)\n",
            "  )\n",
            "  (fc): Sequential(\n",
            "    (0): Linear(in_features=2048, out_features=64, bias=True)\n",
            "    (1): ReLU()\n",
            "    (2): BatchNorm1d(64, eps=1e-05, momentum=0.1, affine=True, track_running_stats=True)\n",
            "    (3): Linear(in_features=64, out_features=10, bias=True)\n",
            "  )\n",
            "  (classifier): Sequential(\n",
            "    (0): Linear(in_features=2048, out_features=64, bias=True)\n",
            "    (1): ReLU()\n",
            "    (2): BatchNorm1d(64, eps=1e-05, momentum=0.1, affine=True, track_running_stats=True)\n",
            "    (3): Linear(in_features=64, out_features=10, bias=True)\n",
            "  )\n",
            ")\n",
            "Epoch: 0, Batches per seconds: 48.79, Global step:    351, Validation Loss: 1.22, Validation Accuracy: 0.565\n"
          ],
          "name": "stdout"
        },
        {
          "output_type": "stream",
          "text": [
            "\n",
            "\n",
            "\n",
            " 10%|█         | 1/10 [00:14<02:06, 14.08s/it]\u001b[A\u001b[A\u001b[A"
          ],
          "name": "stderr"
        },
        {
          "output_type": "stream",
          "text": [
            "Epoch: 0, Batches per seconds: 50.07, Global step:    702, Validation Loss: 1.11, Validation Accuracy: 0.612\n",
            "Epoch: 1, Batches per seconds: 49.95, Global step:   1053, Validation Loss: 0.96, Validation Accuracy: 0.673\n"
          ],
          "name": "stdout"
        },
        {
          "output_type": "stream",
          "text": [
            "\n",
            "\n",
            "\n",
            " 20%|██        | 2/10 [00:28<01:52, 14.06s/it]\u001b[A\u001b[A\u001b[A"
          ],
          "name": "stderr"
        },
        {
          "output_type": "stream",
          "text": [
            "Epoch: 1, Batches per seconds: 50.10, Global step:   1404, Validation Loss: 0.79, Validation Accuracy: 0.724\n",
            "Epoch: 2, Batches per seconds: 49.40, Global step:   1755, Validation Loss: 0.81, Validation Accuracy: 0.720\n"
          ],
          "name": "stdout"
        },
        {
          "output_type": "stream",
          "text": [
            "\n",
            "\n",
            "\n",
            " 30%|███       | 3/10 [00:42<01:38, 14.13s/it]\u001b[A\u001b[A\u001b[A"
          ],
          "name": "stderr"
        },
        {
          "output_type": "stream",
          "text": [
            "Epoch: 2, Batches per seconds: 49.80, Global step:   2106, Validation Loss: 0.73, Validation Accuracy: 0.748\n",
            "Epoch: 3, Batches per seconds: 49.78, Global step:   2457, Validation Loss: 0.74, Validation Accuracy: 0.750\n"
          ],
          "name": "stdout"
        },
        {
          "output_type": "stream",
          "text": [
            "\n",
            "\n",
            "\n",
            " 40%|████      | 4/10 [00:56<01:24, 14.07s/it]\u001b[A\u001b[A\u001b[A"
          ],
          "name": "stderr"
        },
        {
          "output_type": "stream",
          "text": [
            "Epoch: 3, Batches per seconds: 49.96, Global step:   2808, Validation Loss: 0.69, Validation Accuracy: 0.763\n",
            "Epoch: 4, Batches per seconds: 49.73, Global step:   3159, Validation Loss: 0.71, Validation Accuracy: 0.766\n"
          ],
          "name": "stdout"
        },
        {
          "output_type": "stream",
          "text": [
            "\n",
            "\n",
            "\n",
            " 50%|█████     | 5/10 [01:10<01:10, 14.17s/it]\u001b[A\u001b[A\u001b[A"
          ],
          "name": "stderr"
        },
        {
          "output_type": "stream",
          "text": [
            "Epoch: 4, Batches per seconds: 49.72, Global step:   3510, Validation Loss: 0.72, Validation Accuracy: 0.759\n",
            "Epoch: 5, Batches per seconds: 49.62, Global step:   3861, Validation Loss: 0.73, Validation Accuracy: 0.763\n"
          ],
          "name": "stdout"
        },
        {
          "output_type": "stream",
          "text": [
            "\n",
            "\n",
            "\n",
            " 60%|██████    | 6/10 [01:24<00:56, 14.13s/it]\u001b[A\u001b[A\u001b[A"
          ],
          "name": "stderr"
        },
        {
          "output_type": "stream",
          "text": [
            "Epoch: 5, Batches per seconds: 49.77, Global step:   4212, Validation Loss: 0.76, Validation Accuracy: 0.757\n",
            "Epoch: 6, Batches per seconds: 49.75, Global step:   4563, Validation Loss: 0.80, Validation Accuracy: 0.750\n",
            "Epoch: 6, Batches per seconds: 49.86, Global step:   4914, Validation Loss: 0.76, Validation Accuracy: 0.764\n",
            "Early stop criteria met\n",
            "Early stopping.\n"
          ],
          "name": "stdout"
        }
      ]
    },
    {
      "cell_type": "code",
      "metadata": {
        "colab": {
          "base_uri": "https://localhost:8080/",
          "height": 442
        },
        "id": "VVrsquHoXh4r",
        "outputId": "503c8d9b-ed91-4371-c4a2-3f95c90385d1"
      },
      "source": [
        "import pathlib\n",
        "import matplotlib.pyplot as plt\n",
        "import utils\n",
        "\n",
        "\n",
        "plot_path = pathlib.Path(\"plots\")\n",
        "plot_path.mkdir(exist_ok=True)\n",
        "# Save plots and show them\n",
        "plt.figure(figsize=(20, 8))\n",
        "plt.subplot(1, 2, 1)\n",
        "plt.title(\"Cross Entropy Loss\")\n",
        "utils.plot_loss(trainer_3c1.train_history[\"loss\"], label=\"Training loss with dropout\", npoints_to_average=10)\n",
        "utils.plot_loss(trainer_3c1.validation_history[\"loss\"], label=\"Validation loss with dropout\")\n",
        "utils.plot_loss(trainer_3c2.train_history[\"loss\"], label=\"Training loss without dropout\", npoints_to_average=10)\n",
        "utils.plot_loss(trainer_3c2.validation_history[\"loss\"], label=\"Validation loss without dropout\")\n",
        "plt.legend()\n",
        "plt.subplot(1, 2, 2)\n",
        "plt.title(\"Accuracy\")\n",
        "utils.plot_loss(trainer_3c1.validation_history[\"accuracy\"], label=\"Validation Accuracy with dropout\")\n",
        "utils.plot_loss(trainer_3c2.validation_history[\"accuracy\"], label=\"Validation Accuracy without dropout\")\n",
        "\n",
        "plt.legend()\n",
        "plt.savefig(plot_path.joinpath(\"task3d.png\"))\n",
        "plt.show()"
      ],
      "execution_count": null,
      "outputs": [
        {
          "output_type": "display_data",
          "data": {
            "image/png": "[encoded data removed]",
            "text/plain": [
              "<Figure size 1440x576 with 2 Axes>"
            ]
          },
          "metadata": {
            "tags": [],
            "needs_background": "light"
          }
        }
      ]
    }
  ]
}