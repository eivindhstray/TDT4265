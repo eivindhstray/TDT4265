{
 "cells": [
  {
   "cell_type": "markdown",
   "metadata": {},
   "source": [
    "# Assignment 1 Report"
   ]
  },
  {
   "cell_type": "markdown",
   "metadata": {},
   "source": [
    "This is an outline for your report to ease the amount of work required to create your report. Jupyter notebook supports markdown, and I recommend you to check out this [cheat sheet](https://github.com/adam-p/markdown-here/wiki/Markdown-Cheatsheet). If you are not familiar with markdown.\n",
    "\n",
    "Before delivery, **remember to convert this file to PDF**. You can do it in two ways:\n",
    "1. Print the webpage (ctrl+P or cmd+P)\n",
    "2. Export with latex. This is somewhat more difficult, but you'll get somehwat of a \"prettier\" PDF. Go to File -> Download as -> PDF via LaTeX. You might have to install nbconvert and pandoc through conda; `conda install nbconvert pandoc`."
   ]
  },
  {
   "cell_type": "markdown",
   "metadata": {},
   "source": [
    "# Task 1"
   ]
  },
  {
   "cell_type": "markdown",
   "metadata": {},
   "source": [
    "## task 1a)\n",
    "\n",
    "We know that:\n",
    "\n",
    "\n",
    "$$w_{ji}:=w_{ji} - \\alpha \\frac{\\partial C}{\\partial w_{ij}}$$\n",
    "\n",
    "From the chain rule we also know that:\n",
    "\n",
    "$$\\frac{\\partial C}{\\partial w_{ij}} = \\frac{\\partial C}{\\partial z_{j}}* \\frac{\\partial z_j}{\\partial w_{ji}}$$\n",
    "\n",
    "$$\\delta_j  \\frac{\\partial z_j}{\\partial w_{ij}} = \\delta_j * \\frac{\\partial (\\sum_{i=1}^{I} w_{ij}x_i)}{\\partial w_{ji}}$$\n",
    "\n",
    "$$=\\delta_j x_i$$\n",
    "\n",
    "Therefore we get that:\n",
    "\n",
    "\n",
    "$$w{ij} = w_{ij} - \\alpha \\delta_j x_i$$"
   ]
  },
  {
   "cell_type": "markdown",
   "metadata": {},
   "source": [
    "## task 1a)\n",
    "First we will solve the question with one hidden layer before making it general:\n",
    "\n",
    "The picture below shows a given network with one hidden layer:\n",
    "\n",
    "![](1neural.png)\n",
    "\n",
    "From the image we get that:\n",
    "\n",
    "$$\\frac{\\partial C}{\\partial z_0} = \\frac{\\partial a_0}{\\partial z_0}*\\frac{\\partial z_1}{\\partial a_0} * \\frac{\\partial a_1}{\\partial z_1} * \\frac{\\partial C}{\\partial a_1}$$\n",
    "\n",
    "$$\\frac{\\partial C}{\\partial z_1} = \\frac{\\partial a_1}{\\partial z_1} * \\frac{\\partial C}{\\partial a_1} = \\delta_k$$\n",
    "\n",
    "$$\\frac{\\partial a_0}{\\partial z_0} = \\frac{\\partial (\\sigma(z_0))}{\\partial z_0} = f'(z_0)$$\n",
    "\n",
    "$$\\frac{\\partial z_1}{\\partial a_0} = \\frac{\\partial (a_0 w)}{\\partial a_0} = w$$\n",
    "\n",
    "$$\\frac{\\partial C}{\\partial z_0} = \\delta_k f(z_0) w$$\n",
    "\n",
    "Converting to a more general form we get:\n",
    "\n",
    "$$\\delta_j = f'(z_j)* \\sum_{k} w_{kj} \\delta_k$$\n"
   ]
  },
  {
   "source": [
    "# Task 1 b)\n",
    "\n",
    "In the calculation above we can move backwards. \n",
    "\n",
    "Consider 100 images in one batch.\n",
    "\n",
    "In the (last) layer, we have 100x10 as output. The derivative of the cost function $-(y-\\hat{y})$ over 100 images is therefore 100x10.\n",
    "\n",
    "The last gradient will be $-\\frac{1}{100} a_{1}^T \\cdot (y-\\hat{y})$ which is 64x100@100x10 which is 64x10\n",
    "\n",
    "Moving backwards, $f'(z_0)*w_{1}\\cdot\\delta_k^T$ is a 64x10@10x100 operation which yields 64x100.\n",
    "\n",
    "Now that we have $\\delta_j$, we can multiply this by X and we get that the first gradient is $\\frac{1}{100}\\cdot X\\cdot \\delta_j^T$ which is a 785x100@x100x64 which yields 785x64\n",
    "\n"
   ],
   "cell_type": "markdown",
   "metadata": {}
  },
  {
   "cell_type": "markdown",
   "metadata": {},
   "source": [
    "# Task 2"
   ]
  },
  {
   "cell_type": "markdown",
   "metadata": {},
   "source": [
    "## Task 2c)\n",
    "![](task2c_train_loss.png)"
   ]
  },
  {
   "cell_type": "markdown",
   "metadata": {},
   "source": [
    "## Task 2d)\n",
    "FILL IN ANSWER\n",
    "$$(28*28+1)*64+64*10 = 50880$$"
   ]
  },
  {
   "cell_type": "markdown",
   "metadata": {},
   "source": [
    "# Task 3"
   ]
  },
  {
   "cell_type": "markdown",
   "metadata": {},
   "source": [
    "![](task3.png)\n",
    "\n",
    "![](task3_2.png)\n",
    "\n",
    "FILL IN ANSWER.\n",
    "Maybe include a loss / accuracy plot here?"
   ]
  },
  {
   "cell_type": "markdown",
   "metadata": {},
   "source": [
    "# Task 4"
   ]
  },
  {
   "cell_type": "markdown",
   "metadata": {},
   "source": [
    "## Task 4a)\n",
    "\n",
    "![](task4_a_b.png)\n",
    "\n",
    "FILL IN ANSWER. "
   ]
  },
  {
   "cell_type": "markdown",
   "metadata": {},
   "source": [
    "## Task 4b)\n",
    "FILL IN ANSWER\n"
   ]
  },
  {
   "cell_type": "markdown",
   "metadata": {},
   "source": [
    "## Task 4d)\n",
    "FILL IN ANSWER"
   ]
  },
  {
   "cell_type": "markdown",
   "metadata": {},
   "source": [
    "## Task 4e)\n",
    "FILL IN ANSWER\n",
    "\n",
    "![](task4_e.png)"
   ]
  }
 ],
 "metadata": {
  "kernelspec": {
   "display_name": "PyCharm (TDT4265)",
   "language": "python",
   "name": "pycharm-59ecf39d"
  },
  "language_info": {
   "codemirror_mode": {
    "name": "ipython",
    "version": 3
   },
   "file_extension": ".py",
   "mimetype": "text/x-python",
   "name": "python",
   "nbconvert_exporter": "python",
   "pygments_lexer": "ipython3",
   "version": "3.6.12"
  }
 },
 "nbformat": 4,
 "nbformat_minor": 4
}